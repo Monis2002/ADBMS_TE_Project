{
 "cells": [
  {
   "attachments": {},
   "cell_type": "markdown",
   "id": "99c509f6",
   "metadata": {},
   "source": [
    "<img src=\"https://images.firstwefeast.com/complex/image/upload/c_limit,f_auto,fl_lossy,q_auto,w_768/ydkqupv4iiclufeyjlw1.jpg\" alt=\"Girl in a jacket\" width=\"500\" height=\"600\">"
   ]
  },
  {
   "cell_type": "markdown",
   "id": "80f7625c",
   "metadata": {},
   "source": [
    "<h1 style=\"color:purple;font-family: Georgia, serif;font-size:40px\">Fast Food Nutrition Analysis & Model biulding </h1>"
   ]
  },
  {
   "cell_type": "markdown",
   "id": "11560b4c",
   "metadata": {},
   "source": [
    "## Importing  necessary libraries "
   ]
  },
  {
   "cell_type": "code",
   "execution_count": 1,
   "id": "51e17634",
   "metadata": {},
   "outputs": [],
   "source": [
    "import pandas as pd\n",
    "import numpy as np\n",
    "import matplotlib.pyplot as plt\n",
    "import seaborn as sns"
   ]
  },
  {
   "cell_type": "markdown",
   "id": "adb9e611",
   "metadata": {},
   "source": [
    "# Perform data preparation & cleaning"
   ]
  },
  {
   "cell_type": "code",
   "execution_count": 2,
   "id": "a6c57284",
   "metadata": {},
   "outputs": [
    {
     "data": {
      "text/html": [
       "<div>\n",
       "<style scoped>\n",
       "    .dataframe tbody tr th:only-of-type {\n",
       "        vertical-align: middle;\n",
       "    }\n",
       "\n",
       "    .dataframe tbody tr th {\n",
       "        vertical-align: top;\n",
       "    }\n",
       "\n",
       "    .dataframe thead th {\n",
       "        text-align: right;\n",
       "    }\n",
       "</style>\n",
       "<table border=\"1\" class=\"dataframe\">\n",
       "  <thead>\n",
       "    <tr style=\"text-align: right;\">\n",
       "      <th></th>\n",
       "      <th>Company</th>\n",
       "      <th>Item</th>\n",
       "      <th>Calories</th>\n",
       "      <th>Calories from\\nFat</th>\n",
       "      <th>Total Fat\\n(g)</th>\n",
       "      <th>Saturated Fat\\n(g)</th>\n",
       "      <th>Trans Fat\\n(g)</th>\n",
       "      <th>Cholesterol\\n(mg)</th>\n",
       "      <th>Sodium \\n(mg)</th>\n",
       "      <th>Carbs\\n(g)</th>\n",
       "      <th>Fiber\\n(g)</th>\n",
       "      <th>Sugars\\n(g)</th>\n",
       "      <th>Protein\\n(g)</th>\n",
       "      <th>Weight Watchers\\nPnts</th>\n",
       "    </tr>\n",
       "  </thead>\n",
       "  <tbody>\n",
       "    <tr>\n",
       "      <th>0</th>\n",
       "      <td>McDonald’s</td>\n",
       "      <td>Hamburger</td>\n",
       "      <td>250</td>\n",
       "      <td>80</td>\n",
       "      <td>9</td>\n",
       "      <td>3.5</td>\n",
       "      <td>0.5</td>\n",
       "      <td>25</td>\n",
       "      <td>520</td>\n",
       "      <td>31</td>\n",
       "      <td>2</td>\n",
       "      <td>6</td>\n",
       "      <td>12</td>\n",
       "      <td>247.5</td>\n",
       "    </tr>\n",
       "    <tr>\n",
       "      <th>1</th>\n",
       "      <td>McDonald’s</td>\n",
       "      <td>Cheeseburger</td>\n",
       "      <td>300</td>\n",
       "      <td>110</td>\n",
       "      <td>12</td>\n",
       "      <td>6</td>\n",
       "      <td>0.5</td>\n",
       "      <td>40</td>\n",
       "      <td>750</td>\n",
       "      <td>33</td>\n",
       "      <td>2</td>\n",
       "      <td>6</td>\n",
       "      <td>15</td>\n",
       "      <td>297</td>\n",
       "    </tr>\n",
       "    <tr>\n",
       "      <th>2</th>\n",
       "      <td>McDonald’s</td>\n",
       "      <td>Double Cheeseburger</td>\n",
       "      <td>440</td>\n",
       "      <td>210</td>\n",
       "      <td>23</td>\n",
       "      <td>11</td>\n",
       "      <td>1.5</td>\n",
       "      <td>80</td>\n",
       "      <td>1150</td>\n",
       "      <td>34</td>\n",
       "      <td>2</td>\n",
       "      <td>7</td>\n",
       "      <td>25</td>\n",
       "      <td>433</td>\n",
       "    </tr>\n",
       "    <tr>\n",
       "      <th>3</th>\n",
       "      <td>McDonald’s</td>\n",
       "      <td>McDouble</td>\n",
       "      <td>390</td>\n",
       "      <td>170</td>\n",
       "      <td>19</td>\n",
       "      <td>8</td>\n",
       "      <td>1</td>\n",
       "      <td>65</td>\n",
       "      <td>920</td>\n",
       "      <td>33</td>\n",
       "      <td>2</td>\n",
       "      <td>7</td>\n",
       "      <td>22</td>\n",
       "      <td>383</td>\n",
       "    </tr>\n",
       "    <tr>\n",
       "      <th>4</th>\n",
       "      <td>McDonald’s</td>\n",
       "      <td>Quarter Pounder® with Cheese</td>\n",
       "      <td>510</td>\n",
       "      <td>230</td>\n",
       "      <td>26</td>\n",
       "      <td>12</td>\n",
       "      <td>1.5</td>\n",
       "      <td>90</td>\n",
       "      <td>1190</td>\n",
       "      <td>40</td>\n",
       "      <td>3</td>\n",
       "      <td>9</td>\n",
       "      <td>29</td>\n",
       "      <td>502</td>\n",
       "    </tr>\n",
       "  </tbody>\n",
       "</table>\n",
       "</div>"
      ],
      "text/plain": [
       "      Company                           Item Calories Calories from\\nFat   \n",
       "0  McDonald’s                      Hamburger      250                 80  \\\n",
       "1  McDonald’s                   Cheeseburger      300                110   \n",
       "2  McDonald’s            Double Cheeseburger      440                210   \n",
       "3  McDonald’s                       McDouble      390                170   \n",
       "4  McDonald’s   Quarter Pounder® with Cheese      510                230   \n",
       "\n",
       "  Total Fat\\n(g) Saturated Fat\\n(g) Trans Fat\\n(g) Cholesterol\\n(mg)   \n",
       "0              9                3.5            0.5                25  \\\n",
       "1             12                  6            0.5                40   \n",
       "2             23                 11            1.5                80   \n",
       "3             19                  8              1                65   \n",
       "4             26                 12            1.5                90   \n",
       "\n",
       "  Sodium \\n(mg) Carbs\\n(g) Fiber\\n(g) Sugars\\n(g) Protein\\n(g)   \n",
       "0           520         31          2           6           12  \\\n",
       "1           750         33          2           6           15   \n",
       "2          1150         34          2           7           25   \n",
       "3           920         33          2           7           22   \n",
       "4          1190         40          3           9           29   \n",
       "\n",
       "  Weight Watchers\\nPnts  \n",
       "0                 247.5  \n",
       "1                   297  \n",
       "2                   433  \n",
       "3                   383  \n",
       "4                   502  "
      ]
     },
     "execution_count": 2,
     "metadata": {},
     "output_type": "execute_result"
    }
   ],
   "source": [
    "df=pd.read_csv('FastFoodNutritionMenu.csv')\n",
    "df.head()"
   ]
  },
  {
   "cell_type": "markdown",
   "id": "30787763",
   "metadata": {},
   "source": [
    "Let see number of missing values.."
   ]
  },
  {
   "cell_type": "code",
   "execution_count": 3,
   "id": "495cd046",
   "metadata": {
    "scrolled": true
   },
   "outputs": [
    {
     "data": {
      "text/plain": [
       "Company                    0\n",
       "Item                       0\n",
       "Calories                   2\n",
       "Calories from\\nFat        61\n",
       "Total Fat\\n(g)            58\n",
       "Saturated Fat\\n(g)        58\n",
       "Trans Fat\\n(g)            58\n",
       "Cholesterol\\n(mg)          2\n",
       "Sodium \\n(mg)              2\n",
       "Carbs\\n(g)                58\n",
       "Fiber\\n(g)                58\n",
       "Sugars\\n(g)                2\n",
       "Protein\\n(g)             132\n",
       "Weight Watchers\\nPnts    635\n",
       "dtype: int64"
      ]
     },
     "execution_count": 3,
     "metadata": {},
     "output_type": "execute_result"
    }
   ],
   "source": [
    "df.isna().sum()"
   ]
  },
  {
   "cell_type": "markdown",
   "id": "be93e32d",
   "metadata": {},
   "source": [
    "To know dtypes of columns...."
   ]
  },
  {
   "cell_type": "code",
   "execution_count": 4,
   "id": "b2474a6f",
   "metadata": {},
   "outputs": [
    {
     "data": {
      "text/plain": [
       "Company                  object\n",
       "Item                     object\n",
       "Calories                 object\n",
       "Calories from\\nFat       object\n",
       "Total Fat\\n(g)           object\n",
       "Saturated Fat\\n(g)       object\n",
       "Trans Fat\\n(g)           object\n",
       "Cholesterol\\n(mg)        object\n",
       "Sodium \\n(mg)            object\n",
       "Carbs\\n(g)               object\n",
       "Fiber\\n(g)               object\n",
       "Sugars\\n(g)              object\n",
       "Protein\\n(g)             object\n",
       "Weight Watchers\\nPnts    object\n",
       "dtype: object"
      ]
     },
     "execution_count": 4,
     "metadata": {},
     "output_type": "execute_result"
    }
   ],
   "source": [
    "df.dtypes"
   ]
  },
  {
   "cell_type": "markdown",
   "id": "e582dfe3",
   "metadata": {},
   "source": [
    "To know overview of dataset"
   ]
  },
  {
   "cell_type": "code",
   "execution_count": 5,
   "id": "5a2ff605",
   "metadata": {},
   "outputs": [
    {
     "name": "stdout",
     "output_type": "stream",
     "text": [
      "<class 'pandas.core.frame.DataFrame'>\n",
      "RangeIndex: 1159 entries, 0 to 1158\n",
      "Data columns (total 14 columns):\n",
      " #   Column                Non-Null Count  Dtype \n",
      "---  ------                --------------  ----- \n",
      " 0   Company               1159 non-null   object\n",
      " 1   Item                  1159 non-null   object\n",
      " 2   Calories              1157 non-null   object\n",
      " 3   Calories from\n",
      "Fat     1098 non-null   object\n",
      " 4   Total Fat\n",
      "(g)         1101 non-null   object\n",
      " 5   Saturated Fat\n",
      "(g)     1101 non-null   object\n",
      " 6   Trans Fat\n",
      "(g)         1101 non-null   object\n",
      " 7   Cholesterol\n",
      "(mg)      1157 non-null   object\n",
      " 8   Sodium \n",
      "(mg)          1157 non-null   object\n",
      " 9   Carbs\n",
      "(g)             1101 non-null   object\n",
      " 10  Fiber\n",
      "(g)             1101 non-null   object\n",
      " 11  Sugars\n",
      "(g)            1157 non-null   object\n",
      " 12  Protein\n",
      "(g)           1027 non-null   object\n",
      " 13  Weight Watchers\n",
      "Pnts  524 non-null    object\n",
      "dtypes: object(14)\n",
      "memory usage: 126.9+ KB\n"
     ]
    }
   ],
   "source": [
    "df.info()"
   ]
  },
  {
   "cell_type": "markdown",
   "id": "7a58490e",
   "metadata": {},
   "source": [
    "To know number of columns and rows"
   ]
  },
  {
   "cell_type": "code",
   "execution_count": 6,
   "id": "16ccd7ff",
   "metadata": {},
   "outputs": [
    {
     "data": {
      "text/plain": [
       "(1159, 14)"
      ]
     },
     "execution_count": 6,
     "metadata": {},
     "output_type": "execute_result"
    }
   ],
   "source": [
    "df.shape"
   ]
  },
  {
   "cell_type": "markdown",
   "id": "090224e2",
   "metadata": {},
   "source": [
    "To know the statistic of dataset"
   ]
  },
  {
   "cell_type": "code",
   "execution_count": 7,
   "id": "8ba5ce91",
   "metadata": {},
   "outputs": [
    {
     "data": {
      "text/html": [
       "<div>\n",
       "<style scoped>\n",
       "    .dataframe tbody tr th:only-of-type {\n",
       "        vertical-align: middle;\n",
       "    }\n",
       "\n",
       "    .dataframe tbody tr th {\n",
       "        vertical-align: top;\n",
       "    }\n",
       "\n",
       "    .dataframe thead th {\n",
       "        text-align: right;\n",
       "    }\n",
       "</style>\n",
       "<table border=\"1\" class=\"dataframe\">\n",
       "  <thead>\n",
       "    <tr style=\"text-align: right;\">\n",
       "      <th></th>\n",
       "      <th>Company</th>\n",
       "      <th>Item</th>\n",
       "      <th>Calories</th>\n",
       "      <th>Calories from\\nFat</th>\n",
       "      <th>Total Fat\\n(g)</th>\n",
       "      <th>Saturated Fat\\n(g)</th>\n",
       "      <th>Trans Fat\\n(g)</th>\n",
       "      <th>Cholesterol\\n(mg)</th>\n",
       "      <th>Sodium \\n(mg)</th>\n",
       "      <th>Carbs\\n(g)</th>\n",
       "      <th>Fiber\\n(g)</th>\n",
       "      <th>Sugars\\n(g)</th>\n",
       "      <th>Protein\\n(g)</th>\n",
       "      <th>Weight Watchers\\nPnts</th>\n",
       "    </tr>\n",
       "  </thead>\n",
       "  <tbody>\n",
       "    <tr>\n",
       "      <th>count</th>\n",
       "      <td>1159</td>\n",
       "      <td>1159</td>\n",
       "      <td>1157</td>\n",
       "      <td>1098</td>\n",
       "      <td>1101</td>\n",
       "      <td>1101</td>\n",
       "      <td>1101</td>\n",
       "      <td>1157</td>\n",
       "      <td>1157</td>\n",
       "      <td>1101</td>\n",
       "      <td>1101</td>\n",
       "      <td>1157</td>\n",
       "      <td>1027</td>\n",
       "      <td>524</td>\n",
       "    </tr>\n",
       "    <tr>\n",
       "      <th>unique</th>\n",
       "      <td>6</td>\n",
       "      <td>1083</td>\n",
       "      <td>106</td>\n",
       "      <td>105</td>\n",
       "      <td>70</td>\n",
       "      <td>35</td>\n",
       "      <td>52</td>\n",
       "      <td>153</td>\n",
       "      <td>243</td>\n",
       "      <td>119</td>\n",
       "      <td>95</td>\n",
       "      <td>111</td>\n",
       "      <td>293</td>\n",
       "      <td>356</td>\n",
       "    </tr>\n",
       "    <tr>\n",
       "      <th>top</th>\n",
       "      <td>McDonald’s</td>\n",
       "      <td>29 fl oz</td>\n",
       "      <td>0</td>\n",
       "      <td>0</td>\n",
       "      <td>0</td>\n",
       "      <td>0</td>\n",
       "      <td>0</td>\n",
       "      <td>0</td>\n",
       "      <td>0</td>\n",
       "      <td>0</td>\n",
       "      <td>0</td>\n",
       "      <td>0</td>\n",
       "      <td>0</td>\n",
       "      <td>0</td>\n",
       "    </tr>\n",
       "    <tr>\n",
       "      <th>freq</th>\n",
       "      <td>330</td>\n",
       "      <td>11</td>\n",
       "      <td>83</td>\n",
       "      <td>357</td>\n",
       "      <td>364</td>\n",
       "      <td>616</td>\n",
       "      <td>739</td>\n",
       "      <td>182</td>\n",
       "      <td>85</td>\n",
       "      <td>264</td>\n",
       "      <td>426</td>\n",
       "      <td>267</td>\n",
       "      <td>169</td>\n",
       "      <td>29</td>\n",
       "    </tr>\n",
       "  </tbody>\n",
       "</table>\n",
       "</div>"
      ],
      "text/plain": [
       "           Company      Item Calories Calories from\\nFat Total Fat\\n(g)   \n",
       "count         1159      1159     1157               1098           1101  \\\n",
       "unique           6      1083      106                105             70   \n",
       "top     McDonald’s  29 fl oz        0                  0              0   \n",
       "freq           330        11       83                357            364   \n",
       "\n",
       "       Saturated Fat\\n(g) Trans Fat\\n(g) Cholesterol\\n(mg) Sodium \\n(mg)   \n",
       "count                1101           1101              1157          1157  \\\n",
       "unique                 35             52               153           243   \n",
       "top                     0              0                 0             0   \n",
       "freq                  616            739               182            85   \n",
       "\n",
       "       Carbs\\n(g) Fiber\\n(g) Sugars\\n(g) Protein\\n(g) Weight Watchers\\nPnts  \n",
       "count        1101       1101        1157         1027                   524  \n",
       "unique        119         95         111          293                   356  \n",
       "top             0          0           0            0                     0  \n",
       "freq          264        426         267          169                    29  "
      ]
     },
     "execution_count": 7,
     "metadata": {},
     "output_type": "execute_result"
    }
   ],
   "source": [
    "df.describe()"
   ]
  },
  {
   "cell_type": "markdown",
   "id": "368e580a",
   "metadata": {},
   "source": [
    "Because all data types are object,so statistic data is not in proper way.."
   ]
  },
  {
   "cell_type": "code",
   "execution_count": 8,
   "id": "a57a4f9b",
   "metadata": {},
   "outputs": [
    {
     "data": {
      "text/plain": [
       "Index(['Company', 'Item', 'Calories', 'Calories from\\nFat', 'Total Fat\\n(g)',\n",
       "       'Saturated Fat\\n(g)', 'Trans Fat\\n(g)', 'Cholesterol\\n(mg)',\n",
       "       'Sodium \\n(mg)', 'Carbs\\n(g)', 'Fiber\\n(g)', 'Sugars\\n(g)',\n",
       "       'Protein\\n(g)', 'Weight Watchers\\nPnts'],\n",
       "      dtype='object')"
      ]
     },
     "execution_count": 8,
     "metadata": {},
     "output_type": "execute_result"
    }
   ],
   "source": [
    "df.columns"
   ]
  },
  {
   "cell_type": "code",
   "execution_count": 9,
   "id": "10d157c3",
   "metadata": {},
   "outputs": [
    {
     "data": {
      "text/html": [
       "<div>\n",
       "<style scoped>\n",
       "    .dataframe tbody tr th:only-of-type {\n",
       "        vertical-align: middle;\n",
       "    }\n",
       "\n",
       "    .dataframe tbody tr th {\n",
       "        vertical-align: top;\n",
       "    }\n",
       "\n",
       "    .dataframe thead th {\n",
       "        text-align: right;\n",
       "    }\n",
       "</style>\n",
       "<table border=\"1\" class=\"dataframe\">\n",
       "  <thead>\n",
       "    <tr style=\"text-align: right;\">\n",
       "      <th></th>\n",
       "      <th>Company</th>\n",
       "      <th>Item</th>\n",
       "      <th>Calories</th>\n",
       "      <th>Calories from\\nFat</th>\n",
       "      <th>Total Fat\\n(g)</th>\n",
       "      <th>Saturated Fat\\n(g)</th>\n",
       "      <th>Trans Fat\\n(g)</th>\n",
       "      <th>Cholesterol\\n(mg)</th>\n",
       "      <th>Sodium \\n(mg)</th>\n",
       "      <th>Carbs\\n(g)</th>\n",
       "      <th>Fiber\\n(g)</th>\n",
       "      <th>Sugars\\n(g)</th>\n",
       "      <th>Protein\\n(g)</th>\n",
       "      <th>Weight Watchers\\nPnts</th>\n",
       "    </tr>\n",
       "  </thead>\n",
       "  <tbody>\n",
       "    <tr>\n",
       "      <th>0</th>\n",
       "      <td>McDonald’s</td>\n",
       "      <td>Hamburger</td>\n",
       "      <td>250</td>\n",
       "      <td>80</td>\n",
       "      <td>9</td>\n",
       "      <td>3.5</td>\n",
       "      <td>0.5</td>\n",
       "      <td>25</td>\n",
       "      <td>520</td>\n",
       "      <td>31</td>\n",
       "      <td>2</td>\n",
       "      <td>6</td>\n",
       "      <td>12</td>\n",
       "      <td>247.5</td>\n",
       "    </tr>\n",
       "  </tbody>\n",
       "</table>\n",
       "</div>"
      ],
      "text/plain": [
       "      Company       Item Calories Calories from\\nFat Total Fat\\n(g)   \n",
       "0  McDonald’s  Hamburger      250                 80              9  \\\n",
       "\n",
       "  Saturated Fat\\n(g) Trans Fat\\n(g) Cholesterol\\n(mg) Sodium \\n(mg)   \n",
       "0                3.5            0.5                25           520  \\\n",
       "\n",
       "  Carbs\\n(g) Fiber\\n(g) Sugars\\n(g) Protein\\n(g) Weight Watchers\\nPnts  \n",
       "0         31          2           6           12                 247.5  "
      ]
     },
     "execution_count": 9,
     "metadata": {},
     "output_type": "execute_result"
    }
   ],
   "source": [
    "df.head(1)"
   ]
  },
  {
   "cell_type": "code",
   "execution_count": 10,
   "id": "cf922562",
   "metadata": {},
   "outputs": [],
   "source": [
    "columns_list=['Calories', 'Calories from\\nFat', 'Total Fat\\n(g)',\n",
    "       'Saturated Fat\\n(g)', 'Trans Fat\\n(g)', 'Cholesterol\\n(mg)',\n",
    "       'Sodium \\n(mg)', 'Carbs\\n(g)', 'Fiber\\n(g)', 'Sugars\\n(g)',\n",
    "       'Protein\\n(g)', 'Weight Watchers\\nPnts'\n",
    "             ]"
   ]
  },
  {
   "cell_type": "markdown",
   "id": "4d67644d",
   "metadata": {},
   "source": [
    "Now we conver all data type from object to numeric"
   ]
  },
  {
   "cell_type": "code",
   "execution_count": 11,
   "id": "824d0d0e",
   "metadata": {},
   "outputs": [],
   "source": [
    "for i in columns_list:\n",
    "    df[i]=df[i].apply(lambda x:pd.to_numeric(x,errors='coerce'))"
   ]
  },
  {
   "cell_type": "code",
   "execution_count": 12,
   "id": "e6bb8ee2",
   "metadata": {},
   "outputs": [
    {
     "data": {
      "text/plain": [
       "Company                   object\n",
       "Item                      object\n",
       "Calories                 float64\n",
       "Calories from\\nFat       float64\n",
       "Total Fat\\n(g)           float64\n",
       "Saturated Fat\\n(g)       float64\n",
       "Trans Fat\\n(g)           float64\n",
       "Cholesterol\\n(mg)        float64\n",
       "Sodium \\n(mg)            float64\n",
       "Carbs\\n(g)               float64\n",
       "Fiber\\n(g)               float64\n",
       "Sugars\\n(g)              float64\n",
       "Protein\\n(g)             float64\n",
       "Weight Watchers\\nPnts    float64\n",
       "dtype: object"
      ]
     },
     "execution_count": 12,
     "metadata": {},
     "output_type": "execute_result"
    }
   ],
   "source": [
    "df.dtypes"
   ]
  },
  {
   "cell_type": "markdown",
   "id": "985624fb",
   "metadata": {},
   "source": [
    "Now we will can see statistic data"
   ]
  },
  {
   "cell_type": "code",
   "execution_count": 13,
   "id": "0543f8be",
   "metadata": {},
   "outputs": [
    {
     "data": {
      "text/html": [
       "<div>\n",
       "<style scoped>\n",
       "    .dataframe tbody tr th:only-of-type {\n",
       "        vertical-align: middle;\n",
       "    }\n",
       "\n",
       "    .dataframe tbody tr th {\n",
       "        vertical-align: top;\n",
       "    }\n",
       "\n",
       "    .dataframe thead th {\n",
       "        text-align: right;\n",
       "    }\n",
       "</style>\n",
       "<table border=\"1\" class=\"dataframe\">\n",
       "  <thead>\n",
       "    <tr style=\"text-align: right;\">\n",
       "      <th></th>\n",
       "      <th>Calories</th>\n",
       "      <th>Calories from\\nFat</th>\n",
       "      <th>Total Fat\\n(g)</th>\n",
       "      <th>Saturated Fat\\n(g)</th>\n",
       "      <th>Trans Fat\\n(g)</th>\n",
       "      <th>Cholesterol\\n(mg)</th>\n",
       "      <th>Sodium \\n(mg)</th>\n",
       "      <th>Carbs\\n(g)</th>\n",
       "      <th>Fiber\\n(g)</th>\n",
       "      <th>Sugars\\n(g)</th>\n",
       "      <th>Protein\\n(g)</th>\n",
       "      <th>Weight Watchers\\nPnts</th>\n",
       "    </tr>\n",
       "  </thead>\n",
       "  <tbody>\n",
       "    <tr>\n",
       "      <th>count</th>\n",
       "      <td>1133.000000</td>\n",
       "      <td>1076.000000</td>\n",
       "      <td>1079.000000</td>\n",
       "      <td>1078.000000</td>\n",
       "      <td>1072.000000</td>\n",
       "      <td>1126.000000</td>\n",
       "      <td>1132.000000</td>\n",
       "      <td>1067.000000</td>\n",
       "      <td>1068.000000</td>\n",
       "      <td>1125.000000</td>\n",
       "      <td>1005.000000</td>\n",
       "      <td>504.000000</td>\n",
       "    </tr>\n",
       "    <tr>\n",
       "      <th>mean</th>\n",
       "      <td>287.356575</td>\n",
       "      <td>72.842937</td>\n",
       "      <td>8.914272</td>\n",
       "      <td>2.856215</td>\n",
       "      <td>12.509328</td>\n",
       "      <td>199.658082</td>\n",
       "      <td>271.650177</td>\n",
       "      <td>24.946579</td>\n",
       "      <td>9.780899</td>\n",
       "      <td>18.831111</td>\n",
       "      <td>109.888060</td>\n",
       "      <td>332.915675</td>\n",
       "    </tr>\n",
       "    <tr>\n",
       "      <th>std</th>\n",
       "      <td>222.135591</td>\n",
       "      <td>114.344646</td>\n",
       "      <td>12.540780</td>\n",
       "      <td>4.767940</td>\n",
       "      <td>36.949563</td>\n",
       "      <td>366.581740</td>\n",
       "      <td>433.930301</td>\n",
       "      <td>30.873280</td>\n",
       "      <td>23.895287</td>\n",
       "      <td>26.642618</td>\n",
       "      <td>186.424327</td>\n",
       "      <td>249.902081</td>\n",
       "    </tr>\n",
       "    <tr>\n",
       "      <th>min</th>\n",
       "      <td>0.000000</td>\n",
       "      <td>0.000000</td>\n",
       "      <td>0.000000</td>\n",
       "      <td>0.000000</td>\n",
       "      <td>0.000000</td>\n",
       "      <td>0.000000</td>\n",
       "      <td>0.000000</td>\n",
       "      <td>0.000000</td>\n",
       "      <td>0.000000</td>\n",
       "      <td>0.000000</td>\n",
       "      <td>0.000000</td>\n",
       "      <td>0.000000</td>\n",
       "    </tr>\n",
       "    <tr>\n",
       "      <th>25%</th>\n",
       "      <td>140.000000</td>\n",
       "      <td>0.000000</td>\n",
       "      <td>0.000000</td>\n",
       "      <td>0.000000</td>\n",
       "      <td>0.000000</td>\n",
       "      <td>10.000000</td>\n",
       "      <td>27.000000</td>\n",
       "      <td>1.000000</td>\n",
       "      <td>0.000000</td>\n",
       "      <td>1.000000</td>\n",
       "      <td>4.000000</td>\n",
       "      <td>164.375000</td>\n",
       "    </tr>\n",
       "    <tr>\n",
       "      <th>50%</th>\n",
       "      <td>240.000000</td>\n",
       "      <td>16.000000</td>\n",
       "      <td>4.000000</td>\n",
       "      <td>0.000000</td>\n",
       "      <td>0.000000</td>\n",
       "      <td>50.000000</td>\n",
       "      <td>70.000000</td>\n",
       "      <td>13.000000</td>\n",
       "      <td>1.000000</td>\n",
       "      <td>8.000000</td>\n",
       "      <td>13.000000</td>\n",
       "      <td>280.000000</td>\n",
       "    </tr>\n",
       "    <tr>\n",
       "      <th>75%</th>\n",
       "      <td>390.000000</td>\n",
       "      <td>100.000000</td>\n",
       "      <td>12.500000</td>\n",
       "      <td>4.500000</td>\n",
       "      <td>1.500000</td>\n",
       "      <td>190.000000</td>\n",
       "      <td>252.500000</td>\n",
       "      <td>41.000000</td>\n",
       "      <td>5.000000</td>\n",
       "      <td>27.000000</td>\n",
       "      <td>166.000000</td>\n",
       "      <td>441.500000</td>\n",
       "    </tr>\n",
       "    <tr>\n",
       "      <th>max</th>\n",
       "      <td>1220.000000</td>\n",
       "      <td>750.000000</td>\n",
       "      <td>84.000000</td>\n",
       "      <td>33.000000</td>\n",
       "      <td>420.000000</td>\n",
       "      <td>2890.000000</td>\n",
       "      <td>2840.000000</td>\n",
       "      <td>203.000000</td>\n",
       "      <td>264.000000</td>\n",
       "      <td>168.000000</td>\n",
       "      <td>1220.000000</td>\n",
       "      <td>1317.000000</td>\n",
       "    </tr>\n",
       "  </tbody>\n",
       "</table>\n",
       "</div>"
      ],
      "text/plain": [
       "          Calories  Calories from\\nFat  Total Fat\\n(g)  Saturated Fat\\n(g)   \n",
       "count  1133.000000         1076.000000     1079.000000         1078.000000  \\\n",
       "mean    287.356575           72.842937        8.914272            2.856215   \n",
       "std     222.135591          114.344646       12.540780            4.767940   \n",
       "min       0.000000            0.000000        0.000000            0.000000   \n",
       "25%     140.000000            0.000000        0.000000            0.000000   \n",
       "50%     240.000000           16.000000        4.000000            0.000000   \n",
       "75%     390.000000          100.000000       12.500000            4.500000   \n",
       "max    1220.000000          750.000000       84.000000           33.000000   \n",
       "\n",
       "       Trans Fat\\n(g)  Cholesterol\\n(mg)  Sodium \\n(mg)   Carbs\\n(g)   \n",
       "count     1072.000000        1126.000000    1132.000000  1067.000000  \\\n",
       "mean        12.509328         199.658082     271.650177    24.946579   \n",
       "std         36.949563         366.581740     433.930301    30.873280   \n",
       "min          0.000000           0.000000       0.000000     0.000000   \n",
       "25%          0.000000          10.000000      27.000000     1.000000   \n",
       "50%          0.000000          50.000000      70.000000    13.000000   \n",
       "75%          1.500000         190.000000     252.500000    41.000000   \n",
       "max        420.000000        2890.000000    2840.000000   203.000000   \n",
       "\n",
       "        Fiber\\n(g)  Sugars\\n(g)  Protein\\n(g)  Weight Watchers\\nPnts  \n",
       "count  1068.000000  1125.000000   1005.000000             504.000000  \n",
       "mean      9.780899    18.831111    109.888060             332.915675  \n",
       "std      23.895287    26.642618    186.424327             249.902081  \n",
       "min       0.000000     0.000000      0.000000               0.000000  \n",
       "25%       0.000000     1.000000      4.000000             164.375000  \n",
       "50%       1.000000     8.000000     13.000000             280.000000  \n",
       "75%       5.000000    27.000000    166.000000             441.500000  \n",
       "max     264.000000   168.000000   1220.000000            1317.000000  "
      ]
     },
     "execution_count": 13,
     "metadata": {},
     "output_type": "execute_result"
    }
   ],
   "source": [
    "df.describe()"
   ]
  },
  {
   "cell_type": "markdown",
   "id": "d53b5038",
   "metadata": {},
   "source": [
    "If you cross the Calories level above 836,this will damage you body"
   ]
  },
  {
   "cell_type": "code",
   "execution_count": 14,
   "id": "94882f23",
   "metadata": {},
   "outputs": [
    {
     "data": {
      "text/plain": [
       "(1159, 14)"
      ]
     },
     "execution_count": 14,
     "metadata": {},
     "output_type": "execute_result"
    }
   ],
   "source": [
    "df.shape"
   ]
  },
  {
   "cell_type": "code",
   "execution_count": 15,
   "id": "5af567d5",
   "metadata": {},
   "outputs": [],
   "source": [
    "df1=df[df.Calories<836]"
   ]
  },
  {
   "cell_type": "code",
   "execution_count": 16,
   "id": "06a2f10a",
   "metadata": {},
   "outputs": [
    {
     "data": {
      "text/plain": [
       "(1104, 14)"
      ]
     },
     "execution_count": 16,
     "metadata": {},
     "output_type": "execute_result"
    }
   ],
   "source": [
    "df1.shape"
   ]
  },
  {
   "cell_type": "markdown",
   "id": "21312868",
   "metadata": {},
   "source": [
    "Fat must be less than 30% of Calories"
   ]
  },
  {
   "cell_type": "code",
   "execution_count": 17,
   "id": "1279043f",
   "metadata": {},
   "outputs": [],
   "source": [
    "df1=df1[((df1['Total Fat\\n(g)']/df1['Calories'])*100)<30]"
   ]
  },
  {
   "cell_type": "code",
   "execution_count": 18,
   "id": "57240d5d",
   "metadata": {},
   "outputs": [
    {
     "data": {
      "text/plain": [
       "(979, 14)"
      ]
     },
     "execution_count": 18,
     "metadata": {},
     "output_type": "execute_result"
    }
   ],
   "source": [
    "df1.shape"
   ]
  },
  {
   "cell_type": "markdown",
   "id": "47b2fd14",
   "metadata": {},
   "source": [
    "Ignore tha fast food that contain 0 Protein"
   ]
  },
  {
   "cell_type": "code",
   "execution_count": 19,
   "id": "a0978997",
   "metadata": {},
   "outputs": [],
   "source": [
    "df1=df1[df1['Protein\\n(g)']>0]"
   ]
  },
  {
   "cell_type": "code",
   "execution_count": 20,
   "id": "2582858a",
   "metadata": {},
   "outputs": [
    {
     "data": {
      "text/plain": [
       "(807, 14)"
      ]
     },
     "execution_count": 20,
     "metadata": {},
     "output_type": "execute_result"
    }
   ],
   "source": [
    "df1.shape"
   ]
  },
  {
   "cell_type": "markdown",
   "id": "6ae4635b",
   "metadata": {},
   "source": [
    "Sugar Amount\n",
    "\n",
    "- For male 36 gram per day\n",
    "- For female 25 gram per day\n",
    "\n",
    "So we consider atmost 20 gram is not that bad.\n"
   ]
  },
  {
   "cell_type": "code",
   "execution_count": 21,
   "id": "cfe95448",
   "metadata": {},
   "outputs": [],
   "source": [
    "df1=df1[df1['Sugars\\n(g)']<=20]"
   ]
  },
  {
   "cell_type": "code",
   "execution_count": 22,
   "id": "f19f4aa4",
   "metadata": {},
   "outputs": [
    {
     "data": {
      "text/plain": [
       "(582, 14)"
      ]
     },
     "execution_count": 22,
     "metadata": {},
     "output_type": "execute_result"
    }
   ],
   "source": [
    "df1.shape"
   ]
  },
  {
   "cell_type": "code",
   "execution_count": 23,
   "id": "db02b4d1",
   "metadata": {},
   "outputs": [
    {
     "data": {
      "text/plain": [
       "(582, 14)"
      ]
     },
     "execution_count": 23,
     "metadata": {},
     "output_type": "execute_result"
    }
   ],
   "source": [
    "df1.shape"
   ]
  },
  {
   "cell_type": "markdown",
   "id": "c601ce1a",
   "metadata": {},
   "source": [
    "DataFrame with selected columns.."
   ]
  },
  {
   "cell_type": "code",
   "execution_count": 24,
   "id": "870db85f",
   "metadata": {},
   "outputs": [
    {
     "data": {
      "text/plain": [
       "Index(['Company', 'Item', 'Calories', 'Calories from\\nFat', 'Total Fat\\n(g)',\n",
       "       'Saturated Fat\\n(g)', 'Trans Fat\\n(g)', 'Cholesterol\\n(mg)',\n",
       "       'Sodium \\n(mg)', 'Carbs\\n(g)', 'Fiber\\n(g)', 'Sugars\\n(g)',\n",
       "       'Protein\\n(g)', 'Weight Watchers\\nPnts'],\n",
       "      dtype='object')"
      ]
     },
     "execution_count": 24,
     "metadata": {},
     "output_type": "execute_result"
    }
   ],
   "source": [
    "df1.columns"
   ]
  },
  {
   "cell_type": "code",
   "execution_count": 25,
   "id": "b45712d1",
   "metadata": {},
   "outputs": [],
   "source": [
    "list_of_column=['Company', 'Item', 'Calories','Total Fat\\n(g)','Sugars\\n(g)','Protein\\n(g)']"
   ]
  },
  {
   "cell_type": "code",
   "execution_count": 26,
   "id": "06cef2f6",
   "metadata": {},
   "outputs": [],
   "source": [
    "df2=df1[list_of_column]"
   ]
  },
  {
   "cell_type": "code",
   "execution_count": 27,
   "id": "dc4bca9d",
   "metadata": {
    "scrolled": true
   },
   "outputs": [
    {
     "data": {
      "text/html": [
       "<div>\n",
       "<style scoped>\n",
       "    .dataframe tbody tr th:only-of-type {\n",
       "        vertical-align: middle;\n",
       "    }\n",
       "\n",
       "    .dataframe tbody tr th {\n",
       "        vertical-align: top;\n",
       "    }\n",
       "\n",
       "    .dataframe thead th {\n",
       "        text-align: right;\n",
       "    }\n",
       "</style>\n",
       "<table border=\"1\" class=\"dataframe\">\n",
       "  <thead>\n",
       "    <tr style=\"text-align: right;\">\n",
       "      <th></th>\n",
       "      <th>Company</th>\n",
       "      <th>Item</th>\n",
       "      <th>Calories</th>\n",
       "      <th>Total Fat\\n(g)</th>\n",
       "      <th>Sugars\\n(g)</th>\n",
       "      <th>Protein\\n(g)</th>\n",
       "    </tr>\n",
       "  </thead>\n",
       "  <tbody>\n",
       "    <tr>\n",
       "      <th>0</th>\n",
       "      <td>McDonald’s</td>\n",
       "      <td>Hamburger</td>\n",
       "      <td>250.0</td>\n",
       "      <td>9.0</td>\n",
       "      <td>6.0</td>\n",
       "      <td>12.0</td>\n",
       "    </tr>\n",
       "    <tr>\n",
       "      <th>1</th>\n",
       "      <td>McDonald’s</td>\n",
       "      <td>Cheeseburger</td>\n",
       "      <td>300.0</td>\n",
       "      <td>12.0</td>\n",
       "      <td>6.0</td>\n",
       "      <td>15.0</td>\n",
       "    </tr>\n",
       "    <tr>\n",
       "      <th>2</th>\n",
       "      <td>McDonald’s</td>\n",
       "      <td>Double Cheeseburger</td>\n",
       "      <td>440.0</td>\n",
       "      <td>23.0</td>\n",
       "      <td>7.0</td>\n",
       "      <td>25.0</td>\n",
       "    </tr>\n",
       "    <tr>\n",
       "      <th>3</th>\n",
       "      <td>McDonald’s</td>\n",
       "      <td>McDouble</td>\n",
       "      <td>390.0</td>\n",
       "      <td>19.0</td>\n",
       "      <td>7.0</td>\n",
       "      <td>22.0</td>\n",
       "    </tr>\n",
       "    <tr>\n",
       "      <th>4</th>\n",
       "      <td>McDonald’s</td>\n",
       "      <td>Quarter Pounder® with Cheese</td>\n",
       "      <td>510.0</td>\n",
       "      <td>26.0</td>\n",
       "      <td>9.0</td>\n",
       "      <td>29.0</td>\n",
       "    </tr>\n",
       "  </tbody>\n",
       "</table>\n",
       "</div>"
      ],
      "text/plain": [
       "      Company                           Item  Calories  Total Fat\\n(g)   \n",
       "0  McDonald’s                      Hamburger     250.0             9.0  \\\n",
       "1  McDonald’s                   Cheeseburger     300.0            12.0   \n",
       "2  McDonald’s            Double Cheeseburger     440.0            23.0   \n",
       "3  McDonald’s                       McDouble     390.0            19.0   \n",
       "4  McDonald’s   Quarter Pounder® with Cheese     510.0            26.0   \n",
       "\n",
       "   Sugars\\n(g)  Protein\\n(g)  \n",
       "0          6.0          12.0  \n",
       "1          6.0          15.0  \n",
       "2          7.0          25.0  \n",
       "3          7.0          22.0  \n",
       "4          9.0          29.0  "
      ]
     },
     "execution_count": 27,
     "metadata": {},
     "output_type": "execute_result"
    }
   ],
   "source": [
    "df2.head()"
   ]
  },
  {
   "cell_type": "code",
   "execution_count": null,
   "id": "ef3158fe",
   "metadata": {},
   "outputs": [],
   "source": []
  },
  {
   "cell_type": "code",
   "execution_count": 28,
   "id": "cf4ab83a",
   "metadata": {},
   "outputs": [
    {
     "data": {
      "text/plain": [
       "Company           0\n",
       "Item              0\n",
       "Calories          0\n",
       "Total Fat\\n(g)    0\n",
       "Sugars\\n(g)       0\n",
       "Protein\\n(g)      0\n",
       "dtype: int64"
      ]
     },
     "execution_count": 28,
     "metadata": {},
     "output_type": "execute_result"
    }
   ],
   "source": [
    "df2.isna().sum()"
   ]
  },
  {
   "cell_type": "markdown",
   "id": "b4174116",
   "metadata": {},
   "source": [
    "#  Perform exploratory analysis & visualization"
   ]
  },
  {
   "cell_type": "markdown",
   "id": "ce6198c4",
   "metadata": {},
   "source": [
    "### The Company with high number of products"
   ]
  },
  {
   "cell_type": "code",
   "execution_count": 29,
   "id": "b0da072a",
   "metadata": {},
   "outputs": [
    {
     "data": {
      "text/plain": [
       "Company\n",
       "KFC            164\n",
       "McDonald’s     135\n",
       "Wendy’s        115\n",
       "Taco Bell       94\n",
       "Burger King     74\n",
       "Name: count, dtype: int64"
      ]
     },
     "execution_count": 29,
     "metadata": {},
     "output_type": "execute_result"
    }
   ],
   "source": [
    "df2.Company.value_counts()"
   ]
  },
  {
   "cell_type": "code",
   "execution_count": 30,
   "id": "4d7b4ab5",
   "metadata": {
    "scrolled": false
   },
   "outputs": [
    {
     "data": {
      "text/plain": [
       "Text(0, 0.5, 'Product Count')"
      ]
     },
     "execution_count": 30,
     "metadata": {},
     "output_type": "execute_result"
    },
    {
     "data": {
      "image/png": "[encoded data removed]",
      "text/plain": [
       "<Figure size 640x480 with 1 Axes>"
      ]
     },
     "metadata": {},
     "output_type": "display_data"
    }
   ],
   "source": [
    "df2.Company.value_counts().plot(kind='bar',title=\"Product count VS Company\")\n",
    "plt.ylabel(\"Product Count\")"
   ]
  },
  {
   "cell_type": "markdown",
   "id": "2e8614f7",
   "metadata": {},
   "source": [
    "From above Fig\n",
    "\n",
    "- KFC Company has more number of product\n",
    "- Burger King has less number of product\n"
   ]
  },
  {
   "cell_type": "markdown",
   "id": "dae60cb2",
   "metadata": {},
   "source": [
    "###  Relation between Total Fat and Calories"
   ]
  },
  {
   "cell_type": "code",
   "execution_count": 31,
   "id": "8b5af39e",
   "metadata": {},
   "outputs": [
    {
     "data": {
      "text/html": [
       "<div>\n",
       "<style scoped>\n",
       "    .dataframe tbody tr th:only-of-type {\n",
       "        vertical-align: middle;\n",
       "    }\n",
       "\n",
       "    .dataframe tbody tr th {\n",
       "        vertical-align: top;\n",
       "    }\n",
       "\n",
       "    .dataframe thead th {\n",
       "        text-align: right;\n",
       "    }\n",
       "</style>\n",
       "<table border=\"1\" class=\"dataframe\">\n",
       "  <thead>\n",
       "    <tr style=\"text-align: right;\">\n",
       "      <th></th>\n",
       "      <th>Company</th>\n",
       "      <th>Item</th>\n",
       "      <th>Calories</th>\n",
       "      <th>Total Fat\\n(g)</th>\n",
       "      <th>Sugars\\n(g)</th>\n",
       "      <th>Protein\\n(g)</th>\n",
       "    </tr>\n",
       "  </thead>\n",
       "  <tbody>\n",
       "    <tr>\n",
       "      <th>0</th>\n",
       "      <td>McDonald’s</td>\n",
       "      <td>Hamburger</td>\n",
       "      <td>250.0</td>\n",
       "      <td>9.0</td>\n",
       "      <td>6.0</td>\n",
       "      <td>12.0</td>\n",
       "    </tr>\n",
       "    <tr>\n",
       "      <th>1</th>\n",
       "      <td>McDonald’s</td>\n",
       "      <td>Cheeseburger</td>\n",
       "      <td>300.0</td>\n",
       "      <td>12.0</td>\n",
       "      <td>6.0</td>\n",
       "      <td>15.0</td>\n",
       "    </tr>\n",
       "    <tr>\n",
       "      <th>2</th>\n",
       "      <td>McDonald’s</td>\n",
       "      <td>Double Cheeseburger</td>\n",
       "      <td>440.0</td>\n",
       "      <td>23.0</td>\n",
       "      <td>7.0</td>\n",
       "      <td>25.0</td>\n",
       "    </tr>\n",
       "    <tr>\n",
       "      <th>3</th>\n",
       "      <td>McDonald’s</td>\n",
       "      <td>McDouble</td>\n",
       "      <td>390.0</td>\n",
       "      <td>19.0</td>\n",
       "      <td>7.0</td>\n",
       "      <td>22.0</td>\n",
       "    </tr>\n",
       "    <tr>\n",
       "      <th>4</th>\n",
       "      <td>McDonald’s</td>\n",
       "      <td>Quarter Pounder® with Cheese</td>\n",
       "      <td>510.0</td>\n",
       "      <td>26.0</td>\n",
       "      <td>9.0</td>\n",
       "      <td>29.0</td>\n",
       "    </tr>\n",
       "  </tbody>\n",
       "</table>\n",
       "</div>"
      ],
      "text/plain": [
       "      Company                           Item  Calories  Total Fat\\n(g)   \n",
       "0  McDonald’s                      Hamburger     250.0             9.0  \\\n",
       "1  McDonald’s                   Cheeseburger     300.0            12.0   \n",
       "2  McDonald’s            Double Cheeseburger     440.0            23.0   \n",
       "3  McDonald’s                       McDouble     390.0            19.0   \n",
       "4  McDonald’s   Quarter Pounder® with Cheese     510.0            26.0   \n",
       "\n",
       "   Sugars\\n(g)  Protein\\n(g)  \n",
       "0          6.0          12.0  \n",
       "1          6.0          15.0  \n",
       "2          7.0          25.0  \n",
       "3          7.0          22.0  \n",
       "4          9.0          29.0  "
      ]
     },
     "execution_count": 31,
     "metadata": {},
     "output_type": "execute_result"
    }
   ],
   "source": [
    "df2.head()"
   ]
  },
  {
   "cell_type": "code",
   "execution_count": 32,
   "id": "d4efe60b",
   "metadata": {
    "scrolled": false
   },
   "outputs": [
    {
     "data": {
      "text/plain": [
       "Text(0, 0.5, 'Total Fat')"
      ]
     },
     "execution_count": 32,
     "metadata": {},
     "output_type": "execute_result"
    },
    {
     "data": {
      "image/png": "[encoded data removed]",
      "text/plain": [
       "<Figure size 640x480 with 1 Axes>"
      ]
     },
     "metadata": {},
     "output_type": "display_data"
    }
   ],
   "source": [
    "df2.groupby('Calories')['Total Fat\\n(g)'].mean().sort_index().plot(title=\"Total Fat VS Calories\")\n",
    "plt.ylabel(\"Total Fat\")"
   ]
  },
  {
   "cell_type": "markdown",
   "id": "0721ed1c",
   "metadata": {},
   "source": [
    "From above Fig\n",
    "- As Calories increases, Fat also increases\n",
    "- Both are directly proportional to each other\n",
    "- Increasing rate is high"
   ]
  },
  {
   "cell_type": "markdown",
   "id": "1fee26ce",
   "metadata": {},
   "source": [
    "###  Relation between Sugar and Calories"
   ]
  },
  {
   "cell_type": "code",
   "execution_count": 33,
   "id": "c5e19460",
   "metadata": {},
   "outputs": [
    {
     "data": {
      "text/plain": [
       "Text(0, 0.5, 'Sugar')"
      ]
     },
     "execution_count": 33,
     "metadata": {},
     "output_type": "execute_result"
    },
    {
     "data": {
      "image/png": "[encoded data removed]",
      "text/plain": [
       "<Figure size 640x480 with 1 Axes>"
      ]
     },
     "metadata": {},
     "output_type": "display_data"
    }
   ],
   "source": [
    "df2.groupby(\"Calories\")['Sugars\\n(g)'].mean().sort_index().plot(title='Sugar VS Calories')\n",
    "plt.ylabel(\"Sugar\")\n"
   ]
  },
  {
   "cell_type": "markdown",
   "id": "2f524ef3",
   "metadata": {},
   "source": [
    "From above Fig\n",
    "\n",
    "- As Calories increases Sugar also increases\n",
    "- Both are directly proportional to each other\n",
    "- Increasing rate is slow\n",
    "- The Calories at 400,500,600 contain high amount of sugar"
   ]
  },
  {
   "cell_type": "markdown",
   "id": "81a6ccab",
   "metadata": {},
   "source": [
    "### Relation between Fat and Protein"
   ]
  },
  {
   "cell_type": "code",
   "execution_count": 34,
   "id": "75469407",
   "metadata": {
    "scrolled": false
   },
   "outputs": [
    {
     "data": {
      "text/plain": [
       "Text(0.5, 1.0, 'Fat VS Protein')"
      ]
     },
     "execution_count": 34,
     "metadata": {},
     "output_type": "execute_result"
    },
    {
     "data": {
      "image/png": "[encoded data removed]",
      "text/plain": [
       "<Figure size 640x480 with 1 Axes>"
      ]
     },
     "metadata": {},
     "output_type": "display_data"
    }
   ],
   "source": [
    "sns.scatterplot(data=df2,x=df2['Protein\\n(g)'],y=df2['Total Fat\\n(g)'])\n",
    "plt.title(\"Fat VS Protein\")"
   ]
  },
  {
   "cell_type": "markdown",
   "id": "b085507c",
   "metadata": {},
   "source": [
    "From above Fig\n",
    "- Fat is high where protein is less\n",
    "- Where Protein is high where Fat is less\n",
    "- We cannot say they are inversely proportional, because when protein is increases,fat also increases but in very poor amount \n"
   ]
  },
  {
   "cell_type": "markdown",
   "id": "f00630d2",
   "metadata": {},
   "source": [
    "###  To know amount of Nutrition of dataset are supply to market in a Year"
   ]
  },
  {
   "cell_type": "code",
   "execution_count": 35,
   "id": "53a88770",
   "metadata": {},
   "outputs": [
    {
     "data": {
      "text/html": [
       "<div>\n",
       "<style scoped>\n",
       "    .dataframe tbody tr th:only-of-type {\n",
       "        vertical-align: middle;\n",
       "    }\n",
       "\n",
       "    .dataframe tbody tr th {\n",
       "        vertical-align: top;\n",
       "    }\n",
       "\n",
       "    .dataframe thead th {\n",
       "        text-align: right;\n",
       "    }\n",
       "</style>\n",
       "<table border=\"1\" class=\"dataframe\">\n",
       "  <thead>\n",
       "    <tr style=\"text-align: right;\">\n",
       "      <th></th>\n",
       "      <th>Company</th>\n",
       "      <th>Item</th>\n",
       "      <th>Calories</th>\n",
       "      <th>Total Fat\\n(g)</th>\n",
       "      <th>Sugars\\n(g)</th>\n",
       "      <th>Protein\\n(g)</th>\n",
       "    </tr>\n",
       "  </thead>\n",
       "  <tbody>\n",
       "    <tr>\n",
       "      <th>0</th>\n",
       "      <td>McDonald’s</td>\n",
       "      <td>Hamburger</td>\n",
       "      <td>250.0</td>\n",
       "      <td>9.0</td>\n",
       "      <td>6.0</td>\n",
       "      <td>12.0</td>\n",
       "    </tr>\n",
       "    <tr>\n",
       "      <th>1</th>\n",
       "      <td>McDonald’s</td>\n",
       "      <td>Cheeseburger</td>\n",
       "      <td>300.0</td>\n",
       "      <td>12.0</td>\n",
       "      <td>6.0</td>\n",
       "      <td>15.0</td>\n",
       "    </tr>\n",
       "    <tr>\n",
       "      <th>2</th>\n",
       "      <td>McDonald’s</td>\n",
       "      <td>Double Cheeseburger</td>\n",
       "      <td>440.0</td>\n",
       "      <td>23.0</td>\n",
       "      <td>7.0</td>\n",
       "      <td>25.0</td>\n",
       "    </tr>\n",
       "    <tr>\n",
       "      <th>3</th>\n",
       "      <td>McDonald’s</td>\n",
       "      <td>McDouble</td>\n",
       "      <td>390.0</td>\n",
       "      <td>19.0</td>\n",
       "      <td>7.0</td>\n",
       "      <td>22.0</td>\n",
       "    </tr>\n",
       "    <tr>\n",
       "      <th>4</th>\n",
       "      <td>McDonald’s</td>\n",
       "      <td>Quarter Pounder® with Cheese</td>\n",
       "      <td>510.0</td>\n",
       "      <td>26.0</td>\n",
       "      <td>9.0</td>\n",
       "      <td>29.0</td>\n",
       "    </tr>\n",
       "  </tbody>\n",
       "</table>\n",
       "</div>"
      ],
      "text/plain": [
       "      Company                           Item  Calories  Total Fat\\n(g)   \n",
       "0  McDonald’s                      Hamburger     250.0             9.0  \\\n",
       "1  McDonald’s                   Cheeseburger     300.0            12.0   \n",
       "2  McDonald’s            Double Cheeseburger     440.0            23.0   \n",
       "3  McDonald’s                       McDouble     390.0            19.0   \n",
       "4  McDonald’s   Quarter Pounder® with Cheese     510.0            26.0   \n",
       "\n",
       "   Sugars\\n(g)  Protein\\n(g)  \n",
       "0          6.0          12.0  \n",
       "1          6.0          15.0  \n",
       "2          7.0          25.0  \n",
       "3          7.0          22.0  \n",
       "4          9.0          29.0  "
      ]
     },
     "execution_count": 35,
     "metadata": {},
     "output_type": "execute_result"
    }
   ],
   "source": [
    "df2.head()"
   ]
  },
  {
   "cell_type": "code",
   "execution_count": 36,
   "id": "883128a9",
   "metadata": {},
   "outputs": [
    {
     "data": {
      "text/plain": [
       "Index(['Company', 'Item', 'Calories', 'Total Fat\\n(g)', 'Sugars\\n(g)',\n",
       "       'Protein\\n(g)'],\n",
       "      dtype='object')"
      ]
     },
     "execution_count": 36,
     "metadata": {},
     "output_type": "execute_result"
    }
   ],
   "source": [
    "df2.columns"
   ]
  },
  {
   "cell_type": "code",
   "execution_count": 37,
   "id": "6948c171",
   "metadata": {},
   "outputs": [
    {
     "data": {
      "text/html": [
       "<div>\n",
       "<style scoped>\n",
       "    .dataframe tbody tr th:only-of-type {\n",
       "        vertical-align: middle;\n",
       "    }\n",
       "\n",
       "    .dataframe tbody tr th {\n",
       "        vertical-align: top;\n",
       "    }\n",
       "\n",
       "    .dataframe thead th {\n",
       "        text-align: right;\n",
       "    }\n",
       "</style>\n",
       "<table border=\"1\" class=\"dataframe\">\n",
       "  <thead>\n",
       "    <tr style=\"text-align: right;\">\n",
       "      <th></th>\n",
       "      <th>Calories</th>\n",
       "      <th>Total Fat\\n(g)</th>\n",
       "      <th>Sugars\\n(g)</th>\n",
       "      <th>Protein\\n(g)</th>\n",
       "    </tr>\n",
       "    <tr>\n",
       "      <th>Company</th>\n",
       "      <th></th>\n",
       "      <th></th>\n",
       "      <th></th>\n",
       "      <th></th>\n",
       "    </tr>\n",
       "  </thead>\n",
       "  <tbody>\n",
       "    <tr>\n",
       "      <th>Burger King</th>\n",
       "      <td>405.945946</td>\n",
       "      <td>24.040541</td>\n",
       "      <td>5.081081</td>\n",
       "      <td>15.067568</td>\n",
       "    </tr>\n",
       "    <tr>\n",
       "      <th>KFC</th>\n",
       "      <td>195.060976</td>\n",
       "      <td>1.182927</td>\n",
       "      <td>3.463415</td>\n",
       "      <td>220.463415</td>\n",
       "    </tr>\n",
       "    <tr>\n",
       "      <th>McDonald’s</th>\n",
       "      <td>294.851852</td>\n",
       "      <td>14.440741</td>\n",
       "      <td>7.488889</td>\n",
       "      <td>14.333333</td>\n",
       "    </tr>\n",
       "    <tr>\n",
       "      <th>Taco Bell</th>\n",
       "      <td>399.574468</td>\n",
       "      <td>19.287234</td>\n",
       "      <td>3.585106</td>\n",
       "      <td>13.787234</td>\n",
       "    </tr>\n",
       "    <tr>\n",
       "      <th>Wendy’s</th>\n",
       "      <td>282.478261</td>\n",
       "      <td>3.117391</td>\n",
       "      <td>5.965217</td>\n",
       "      <td>313.626087</td>\n",
       "    </tr>\n",
       "  </tbody>\n",
       "</table>\n",
       "</div>"
      ],
      "text/plain": [
       "               Calories  Total Fat\\n(g)  Sugars\\n(g)  Protein\\n(g)\n",
       "Company                                                           \n",
       "Burger King  405.945946       24.040541     5.081081     15.067568\n",
       "KFC          195.060976        1.182927     3.463415    220.463415\n",
       "McDonald’s   294.851852       14.440741     7.488889     14.333333\n",
       "Taco Bell    399.574468       19.287234     3.585106     13.787234\n",
       "Wendy’s      282.478261        3.117391     5.965217    313.626087"
      ]
     },
     "execution_count": 37,
     "metadata": {},
     "output_type": "execute_result"
    }
   ],
   "source": [
    "mean_of_data=df2[['Company', 'Calories', 'Total Fat\\n(g)', 'Sugars\\n(g)',\n",
    "       'Protein\\n(g)']].groupby('Company').mean()\n",
    "mean_of_data"
   ]
  },
  {
   "cell_type": "code",
   "execution_count": 38,
   "id": "8bf0e237",
   "metadata": {
    "scrolled": false
   },
   "outputs": [
    {
     "data": {
      "image/png": "[encoded data removed]",
      "text/plain": [
       "<Figure size 640x480 with 2 Axes>"
      ]
     },
     "metadata": {},
     "output_type": "display_data"
    }
   ],
   "source": [
    "sns.heatmap(data=mean_of_data, cmap=\"BuPu\",annot=True);\n",
    "plt.title(\"Amount of Nutrition's supply to Market\");\n"
   ]
  },
  {
   "cell_type": "markdown",
   "id": "e168eb00",
   "metadata": {},
   "source": [
    "From above Fig\n",
    "\n",
    "- We say that, Burger King is 1st & Taco Bell is 2nd, who supply more Calories to Market\n",
    "- Wendy's play a major role in supplying Protein to Market\n",
    "- KFC maintain it's ratio of supplying protein & Calories in almost same amount."
   ]
  },
  {
   "cell_type": "markdown",
   "id": "34fdf84e",
   "metadata": {},
   "source": [
    "# Ask & answer questions about the data"
   ]
  },
  {
   "cell_type": "code",
   "execution_count": 39,
   "id": "7b3ed2b3",
   "metadata": {
    "scrolled": true
   },
   "outputs": [
    {
     "data": {
      "text/html": [
       "<div>\n",
       "<style scoped>\n",
       "    .dataframe tbody tr th:only-of-type {\n",
       "        vertical-align: middle;\n",
       "    }\n",
       "\n",
       "    .dataframe tbody tr th {\n",
       "        vertical-align: top;\n",
       "    }\n",
       "\n",
       "    .dataframe thead th {\n",
       "        text-align: right;\n",
       "    }\n",
       "</style>\n",
       "<table border=\"1\" class=\"dataframe\">\n",
       "  <thead>\n",
       "    <tr style=\"text-align: right;\">\n",
       "      <th></th>\n",
       "      <th>Company</th>\n",
       "      <th>Item</th>\n",
       "      <th>Calories</th>\n",
       "      <th>Total Fat\\n(g)</th>\n",
       "      <th>Sugars\\n(g)</th>\n",
       "      <th>Protein\\n(g)</th>\n",
       "    </tr>\n",
       "  </thead>\n",
       "  <tbody>\n",
       "    <tr>\n",
       "      <th>0</th>\n",
       "      <td>McDonald’s</td>\n",
       "      <td>Hamburger</td>\n",
       "      <td>250.0</td>\n",
       "      <td>9.0</td>\n",
       "      <td>6.0</td>\n",
       "      <td>12.0</td>\n",
       "    </tr>\n",
       "    <tr>\n",
       "      <th>1</th>\n",
       "      <td>McDonald’s</td>\n",
       "      <td>Cheeseburger</td>\n",
       "      <td>300.0</td>\n",
       "      <td>12.0</td>\n",
       "      <td>6.0</td>\n",
       "      <td>15.0</td>\n",
       "    </tr>\n",
       "    <tr>\n",
       "      <th>2</th>\n",
       "      <td>McDonald’s</td>\n",
       "      <td>Double Cheeseburger</td>\n",
       "      <td>440.0</td>\n",
       "      <td>23.0</td>\n",
       "      <td>7.0</td>\n",
       "      <td>25.0</td>\n",
       "    </tr>\n",
       "    <tr>\n",
       "      <th>3</th>\n",
       "      <td>McDonald’s</td>\n",
       "      <td>McDouble</td>\n",
       "      <td>390.0</td>\n",
       "      <td>19.0</td>\n",
       "      <td>7.0</td>\n",
       "      <td>22.0</td>\n",
       "    </tr>\n",
       "    <tr>\n",
       "      <th>4</th>\n",
       "      <td>McDonald’s</td>\n",
       "      <td>Quarter Pounder® with Cheese</td>\n",
       "      <td>510.0</td>\n",
       "      <td>26.0</td>\n",
       "      <td>9.0</td>\n",
       "      <td>29.0</td>\n",
       "    </tr>\n",
       "  </tbody>\n",
       "</table>\n",
       "</div>"
      ],
      "text/plain": [
       "      Company                           Item  Calories  Total Fat\\n(g)   \n",
       "0  McDonald’s                      Hamburger     250.0             9.0  \\\n",
       "1  McDonald’s                   Cheeseburger     300.0            12.0   \n",
       "2  McDonald’s            Double Cheeseburger     440.0            23.0   \n",
       "3  McDonald’s                       McDouble     390.0            19.0   \n",
       "4  McDonald’s   Quarter Pounder® with Cheese     510.0            26.0   \n",
       "\n",
       "   Sugars\\n(g)  Protein\\n(g)  \n",
       "0          6.0          12.0  \n",
       "1          6.0          15.0  \n",
       "2          7.0          25.0  \n",
       "3          7.0          22.0  \n",
       "4          9.0          29.0  "
      ]
     },
     "execution_count": 39,
     "metadata": {},
     "output_type": "execute_result"
    }
   ],
   "source": [
    "df2.head()"
   ]
  },
  {
   "cell_type": "markdown",
   "id": "0dbd9781",
   "metadata": {},
   "source": [
    "## Q) How many Burger's are supply by each Company?"
   ]
  },
  {
   "cell_type": "code",
   "execution_count": 40,
   "id": "bf42d36f",
   "metadata": {},
   "outputs": [],
   "source": [
    "burger_df=df2[df2.Item.str.contains('burger')]"
   ]
  },
  {
   "cell_type": "code",
   "execution_count": 41,
   "id": "982638a4",
   "metadata": {},
   "outputs": [
    {
     "data": {
      "text/html": [
       "<div>\n",
       "<style scoped>\n",
       "    .dataframe tbody tr th:only-of-type {\n",
       "        vertical-align: middle;\n",
       "    }\n",
       "\n",
       "    .dataframe tbody tr th {\n",
       "        vertical-align: top;\n",
       "    }\n",
       "\n",
       "    .dataframe thead th {\n",
       "        text-align: right;\n",
       "    }\n",
       "</style>\n",
       "<table border=\"1\" class=\"dataframe\">\n",
       "  <thead>\n",
       "    <tr style=\"text-align: right;\">\n",
       "      <th></th>\n",
       "      <th>Company</th>\n",
       "      <th>Item</th>\n",
       "      <th>Calories</th>\n",
       "      <th>Total Fat\\n(g)</th>\n",
       "      <th>Sugars\\n(g)</th>\n",
       "      <th>Protein\\n(g)</th>\n",
       "    </tr>\n",
       "  </thead>\n",
       "  <tbody>\n",
       "    <tr>\n",
       "      <th>0</th>\n",
       "      <td>McDonald’s</td>\n",
       "      <td>Hamburger</td>\n",
       "      <td>250.0</td>\n",
       "      <td>9.0</td>\n",
       "      <td>6.0</td>\n",
       "      <td>12.0</td>\n",
       "    </tr>\n",
       "    <tr>\n",
       "      <th>1</th>\n",
       "      <td>McDonald’s</td>\n",
       "      <td>Cheeseburger</td>\n",
       "      <td>300.0</td>\n",
       "      <td>12.0</td>\n",
       "      <td>6.0</td>\n",
       "      <td>15.0</td>\n",
       "    </tr>\n",
       "    <tr>\n",
       "      <th>2</th>\n",
       "      <td>McDonald’s</td>\n",
       "      <td>Double Cheeseburger</td>\n",
       "      <td>440.0</td>\n",
       "      <td>23.0</td>\n",
       "      <td>7.0</td>\n",
       "      <td>25.0</td>\n",
       "    </tr>\n",
       "    <tr>\n",
       "      <th>102</th>\n",
       "      <td>McDonald’s</td>\n",
       "      <td>Hamburger Happy Meal</td>\n",
       "      <td>475.0</td>\n",
       "      <td>16.0</td>\n",
       "      <td>20.0</td>\n",
       "      <td>22.0</td>\n",
       "    </tr>\n",
       "    <tr>\n",
       "      <th>346</th>\n",
       "      <td>Burger King</td>\n",
       "      <td>Hamburger</td>\n",
       "      <td>240.0</td>\n",
       "      <td>10.0</td>\n",
       "      <td>6.0</td>\n",
       "      <td>13.0</td>\n",
       "    </tr>\n",
       "  </tbody>\n",
       "</table>\n",
       "</div>"
      ],
      "text/plain": [
       "         Company                  Item  Calories  Total Fat\\n(g)  Sugars\\n(g)   \n",
       "0     McDonald’s             Hamburger     250.0             9.0          6.0  \\\n",
       "1     McDonald’s          Cheeseburger     300.0            12.0          6.0   \n",
       "2     McDonald’s   Double Cheeseburger     440.0            23.0          7.0   \n",
       "102   McDonald’s  Hamburger Happy Meal     475.0            16.0         20.0   \n",
       "346  Burger King             Hamburger     240.0            10.0          6.0   \n",
       "\n",
       "     Protein\\n(g)  \n",
       "0            12.0  \n",
       "1            15.0  \n",
       "2            25.0  \n",
       "102          22.0  \n",
       "346          13.0  "
      ]
     },
     "execution_count": 41,
     "metadata": {},
     "output_type": "execute_result"
    }
   ],
   "source": [
    "burger_df.head()"
   ]
  },
  {
   "cell_type": "markdown",
   "id": "5c17e624",
   "metadata": {},
   "source": [
    "1st way"
   ]
  },
  {
   "cell_type": "code",
   "execution_count": 42,
   "id": "9c7ea668",
   "metadata": {
    "scrolled": false
   },
   "outputs": [
    {
     "data": {
      "text/plain": [
       "Company\n",
       "Burger King    9\n",
       "Wendy’s        5\n",
       "McDonald’s     4\n",
       "Name: count, dtype: int64"
      ]
     },
     "execution_count": 42,
     "metadata": {},
     "output_type": "execute_result"
    }
   ],
   "source": [
    "burger_df.Company.value_counts()"
   ]
  },
  {
   "cell_type": "markdown",
   "id": "aaf18bec",
   "metadata": {},
   "source": [
    "2nd Way"
   ]
  },
  {
   "cell_type": "code",
   "execution_count": 43,
   "id": "a31e7418",
   "metadata": {},
   "outputs": [
    {
     "data": {
      "text/plain": [
       "Company\n",
       "Burger King    9\n",
       "McDonald’s     4\n",
       "Wendy’s        5\n",
       "Name: Item, dtype: int64"
      ]
     },
     "execution_count": 43,
     "metadata": {},
     "output_type": "execute_result"
    }
   ],
   "source": [
    "burger_df.groupby(\"Company\").Item.count()"
   ]
  },
  {
   "cell_type": "code",
   "execution_count": 44,
   "id": "b83e4b90",
   "metadata": {
    "scrolled": false
   },
   "outputs": [
    {
     "data": {
      "text/plain": [
       "Text(0, 0.5, 'Count')"
      ]
     },
     "execution_count": 44,
     "metadata": {},
     "output_type": "execute_result"
    },
    {
     "data": {
      "image/png": "[encoded data removed]",
      "text/plain": [
       "<Figure size 640x480 with 1 Axes>"
      ]
     },
     "metadata": {},
     "output_type": "display_data"
    }
   ],
   "source": [
    "burger_df.groupby(\"Company\").Item.count().plot(kind='bar',title=\"Count of Burger Supply\")\n",
    "plt.ylabel(\"Count\")"
   ]
  },
  {
   "cell_type": "markdown",
   "id": "7b791c78",
   "metadata": {},
   "source": [
    "From above Fig\n",
    "\n",
    "- Burger king is best option while buying an burger\n",
    "- Burger King provide large variety of burgers"
   ]
  },
  {
   "cell_type": "markdown",
   "id": "31b2ac02",
   "metadata": {},
   "source": [
    "##  Q) Top 10 protein rich Fast Food Items"
   ]
  },
  {
   "cell_type": "code",
   "execution_count": 45,
   "id": "ffac470d",
   "metadata": {},
   "outputs": [
    {
     "data": {
      "text/html": [
       "<div>\n",
       "<style scoped>\n",
       "    .dataframe tbody tr th:only-of-type {\n",
       "        vertical-align: middle;\n",
       "    }\n",
       "\n",
       "    .dataframe tbody tr th {\n",
       "        vertical-align: top;\n",
       "    }\n",
       "\n",
       "    .dataframe thead th {\n",
       "        text-align: right;\n",
       "    }\n",
       "</style>\n",
       "<table border=\"1\" class=\"dataframe\">\n",
       "  <thead>\n",
       "    <tr style=\"text-align: right;\">\n",
       "      <th></th>\n",
       "      <th>Company</th>\n",
       "      <th>Item</th>\n",
       "      <th>Calories</th>\n",
       "      <th>Total Fat\\n(g)</th>\n",
       "      <th>Sugars\\n(g)</th>\n",
       "      <th>Protein\\n(g)</th>\n",
       "    </tr>\n",
       "  </thead>\n",
       "  <tbody>\n",
       "    <tr>\n",
       "      <th>0</th>\n",
       "      <td>McDonald’s</td>\n",
       "      <td>Hamburger</td>\n",
       "      <td>250.0</td>\n",
       "      <td>9.0</td>\n",
       "      <td>6.0</td>\n",
       "      <td>12.0</td>\n",
       "    </tr>\n",
       "    <tr>\n",
       "      <th>1</th>\n",
       "      <td>McDonald’s</td>\n",
       "      <td>Cheeseburger</td>\n",
       "      <td>300.0</td>\n",
       "      <td>12.0</td>\n",
       "      <td>6.0</td>\n",
       "      <td>15.0</td>\n",
       "    </tr>\n",
       "    <tr>\n",
       "      <th>2</th>\n",
       "      <td>McDonald’s</td>\n",
       "      <td>Double Cheeseburger</td>\n",
       "      <td>440.0</td>\n",
       "      <td>23.0</td>\n",
       "      <td>7.0</td>\n",
       "      <td>25.0</td>\n",
       "    </tr>\n",
       "    <tr>\n",
       "      <th>3</th>\n",
       "      <td>McDonald’s</td>\n",
       "      <td>McDouble</td>\n",
       "      <td>390.0</td>\n",
       "      <td>19.0</td>\n",
       "      <td>7.0</td>\n",
       "      <td>22.0</td>\n",
       "    </tr>\n",
       "    <tr>\n",
       "      <th>4</th>\n",
       "      <td>McDonald’s</td>\n",
       "      <td>Quarter Pounder® with Cheese</td>\n",
       "      <td>510.0</td>\n",
       "      <td>26.0</td>\n",
       "      <td>9.0</td>\n",
       "      <td>29.0</td>\n",
       "    </tr>\n",
       "  </tbody>\n",
       "</table>\n",
       "</div>"
      ],
      "text/plain": [
       "      Company                           Item  Calories  Total Fat\\n(g)   \n",
       "0  McDonald’s                      Hamburger     250.0             9.0  \\\n",
       "1  McDonald’s                   Cheeseburger     300.0            12.0   \n",
       "2  McDonald’s            Double Cheeseburger     440.0            23.0   \n",
       "3  McDonald’s                       McDouble     390.0            19.0   \n",
       "4  McDonald’s   Quarter Pounder® with Cheese     510.0            26.0   \n",
       "\n",
       "   Sugars\\n(g)  Protein\\n(g)  \n",
       "0          6.0          12.0  \n",
       "1          6.0          15.0  \n",
       "2          7.0          25.0  \n",
       "3          7.0          22.0  \n",
       "4          9.0          29.0  "
      ]
     },
     "execution_count": 45,
     "metadata": {},
     "output_type": "execute_result"
    }
   ],
   "source": [
    "df2.head()"
   ]
  },
  {
   "cell_type": "code",
   "execution_count": 46,
   "id": "63d526ac",
   "metadata": {},
   "outputs": [],
   "source": [
    "top_10_protein=df2.sort_values('Protein\\n(g)',ascending=False)[['Item','Protein\\n(g)']].head(10)\n",
    "top_10_protein.set_index('Item',inplace=True)"
   ]
  },
  {
   "cell_type": "code",
   "execution_count": 47,
   "id": "37a7a6b3",
   "metadata": {},
   "outputs": [
    {
     "data": {
      "image/png": "[encoded data removed]",
      "text/plain": [
       "<Figure size 640x480 with 1 Axes>"
      ]
     },
     "metadata": {},
     "output_type": "display_data"
    }
   ],
   "source": [
    "top_10_protein.plot(kind='bar',title=\"Protein VS Item\")\n",
    "plt.ylabel(\"Protein\");"
   ]
  },
  {
   "cell_type": "markdown",
   "id": "cf4a5698",
   "metadata": {},
   "source": [
    "From above Fig\n",
    "- Meal with rich in protien\n"
   ]
  },
  {
   "cell_type": "markdown",
   "id": "7bee6b09",
   "metadata": {},
   "source": [
    "## Q) What percent of Cold Beverages are presented by Companys?"
   ]
  },
  {
   "cell_type": "code",
   "execution_count": 48,
   "id": "e28600e8",
   "metadata": {},
   "outputs": [
    {
     "data": {
      "text/html": [
       "<div>\n",
       "<style scoped>\n",
       "    .dataframe tbody tr th:only-of-type {\n",
       "        vertical-align: middle;\n",
       "    }\n",
       "\n",
       "    .dataframe tbody tr th {\n",
       "        vertical-align: top;\n",
       "    }\n",
       "\n",
       "    .dataframe thead th {\n",
       "        text-align: right;\n",
       "    }\n",
       "</style>\n",
       "<table border=\"1\" class=\"dataframe\">\n",
       "  <thead>\n",
       "    <tr style=\"text-align: right;\">\n",
       "      <th></th>\n",
       "      <th>Company</th>\n",
       "      <th>Item</th>\n",
       "      <th>Calories</th>\n",
       "      <th>Total Fat\\n(g)</th>\n",
       "      <th>Sugars\\n(g)</th>\n",
       "      <th>Protein\\n(g)</th>\n",
       "    </tr>\n",
       "  </thead>\n",
       "  <tbody>\n",
       "    <tr>\n",
       "      <th>0</th>\n",
       "      <td>McDonald’s</td>\n",
       "      <td>Hamburger</td>\n",
       "      <td>250.0</td>\n",
       "      <td>9.0</td>\n",
       "      <td>6.0</td>\n",
       "      <td>12.0</td>\n",
       "    </tr>\n",
       "    <tr>\n",
       "      <th>1</th>\n",
       "      <td>McDonald’s</td>\n",
       "      <td>Cheeseburger</td>\n",
       "      <td>300.0</td>\n",
       "      <td>12.0</td>\n",
       "      <td>6.0</td>\n",
       "      <td>15.0</td>\n",
       "    </tr>\n",
       "    <tr>\n",
       "      <th>2</th>\n",
       "      <td>McDonald’s</td>\n",
       "      <td>Double Cheeseburger</td>\n",
       "      <td>440.0</td>\n",
       "      <td>23.0</td>\n",
       "      <td>7.0</td>\n",
       "      <td>25.0</td>\n",
       "    </tr>\n",
       "    <tr>\n",
       "      <th>3</th>\n",
       "      <td>McDonald’s</td>\n",
       "      <td>McDouble</td>\n",
       "      <td>390.0</td>\n",
       "      <td>19.0</td>\n",
       "      <td>7.0</td>\n",
       "      <td>22.0</td>\n",
       "    </tr>\n",
       "    <tr>\n",
       "      <th>4</th>\n",
       "      <td>McDonald’s</td>\n",
       "      <td>Quarter Pounder® with Cheese</td>\n",
       "      <td>510.0</td>\n",
       "      <td>26.0</td>\n",
       "      <td>9.0</td>\n",
       "      <td>29.0</td>\n",
       "    </tr>\n",
       "  </tbody>\n",
       "</table>\n",
       "</div>"
      ],
      "text/plain": [
       "      Company                           Item  Calories  Total Fat\\n(g)   \n",
       "0  McDonald’s                      Hamburger     250.0             9.0  \\\n",
       "1  McDonald’s                   Cheeseburger     300.0            12.0   \n",
       "2  McDonald’s            Double Cheeseburger     440.0            23.0   \n",
       "3  McDonald’s                       McDouble     390.0            19.0   \n",
       "4  McDonald’s   Quarter Pounder® with Cheese     510.0            26.0   \n",
       "\n",
       "   Sugars\\n(g)  Protein\\n(g)  \n",
       "0          6.0          12.0  \n",
       "1          6.0          15.0  \n",
       "2          7.0          25.0  \n",
       "3          7.0          22.0  \n",
       "4          9.0          29.0  "
      ]
     },
     "execution_count": 48,
     "metadata": {},
     "output_type": "execute_result"
    }
   ],
   "source": [
    "df2.head()"
   ]
  },
  {
   "cell_type": "code",
   "execution_count": 49,
   "id": "48e2e2e2",
   "metadata": {},
   "outputs": [
    {
     "data": {
      "text/plain": [
       "562"
      ]
     },
     "execution_count": 49,
     "metadata": {},
     "output_type": "execute_result"
    }
   ],
   "source": [
    "df2.Item.nunique()"
   ]
  },
  {
   "cell_type": "code",
   "execution_count": 50,
   "id": "52b1cad2",
   "metadata": {},
   "outputs": [],
   "source": [
    "cold_df=df2[df2.Item.str.contains(\"Ice\")]"
   ]
  },
  {
   "cell_type": "code",
   "execution_count": 51,
   "id": "a70f23d7",
   "metadata": {
    "scrolled": true
   },
   "outputs": [
    {
     "data": {
      "text/html": [
       "<div>\n",
       "<style scoped>\n",
       "    .dataframe tbody tr th:only-of-type {\n",
       "        vertical-align: middle;\n",
       "    }\n",
       "\n",
       "    .dataframe tbody tr th {\n",
       "        vertical-align: top;\n",
       "    }\n",
       "\n",
       "    .dataframe thead th {\n",
       "        text-align: right;\n",
       "    }\n",
       "</style>\n",
       "<table border=\"1\" class=\"dataframe\">\n",
       "  <thead>\n",
       "    <tr style=\"text-align: right;\">\n",
       "      <th></th>\n",
       "      <th>Company</th>\n",
       "      <th>Item</th>\n",
       "      <th>Calories</th>\n",
       "      <th>Total Fat\\n(g)</th>\n",
       "      <th>Sugars\\n(g)</th>\n",
       "      <th>Protein\\n(g)</th>\n",
       "    </tr>\n",
       "  </thead>\n",
       "  <tbody>\n",
       "    <tr>\n",
       "      <th>107</th>\n",
       "      <td>McDonald’s</td>\n",
       "      <td>Vanilla Reduced Fat Ice Cream Cone</td>\n",
       "      <td>150.0</td>\n",
       "      <td>3.5</td>\n",
       "      <td>18.0</td>\n",
       "      <td>4.0</td>\n",
       "    </tr>\n",
       "    <tr>\n",
       "      <th>182</th>\n",
       "      <td>McDonald’s</td>\n",
       "      <td>Iced Coffee– Caramel (Small)</td>\n",
       "      <td>130.0</td>\n",
       "      <td>5.0</td>\n",
       "      <td>20.0</td>\n",
       "      <td>1.0</td>\n",
       "    </tr>\n",
       "    <tr>\n",
       "      <th>194</th>\n",
       "      <td>McDonald’s</td>\n",
       "      <td>Iced Coffee with Sugar Free Vanilla Syrup (Small)</td>\n",
       "      <td>60.0</td>\n",
       "      <td>5.0</td>\n",
       "      <td>1.0</td>\n",
       "      <td>1.0</td>\n",
       "    </tr>\n",
       "    <tr>\n",
       "      <th>195</th>\n",
       "      <td>McDonald’s</td>\n",
       "      <td>Iced Coffee with Sugar Free Vanilla Syrup (Med...</td>\n",
       "      <td>90.0</td>\n",
       "      <td>8.0</td>\n",
       "      <td>2.0</td>\n",
       "      <td>2.0</td>\n",
       "    </tr>\n",
       "    <tr>\n",
       "      <th>196</th>\n",
       "      <td>McDonald’s</td>\n",
       "      <td>Iced Coffee with Sugar Free Vanilla Syrup (Large)</td>\n",
       "      <td>120.0</td>\n",
       "      <td>11.0</td>\n",
       "      <td>2.0</td>\n",
       "      <td>2.0</td>\n",
       "    </tr>\n",
       "    <tr>\n",
       "      <th>237</th>\n",
       "      <td>McDonald’s</td>\n",
       "      <td>Iced Nonfat Latte (Small)</td>\n",
       "      <td>50.0</td>\n",
       "      <td>0.0</td>\n",
       "      <td>7.0</td>\n",
       "      <td>5.0</td>\n",
       "    </tr>\n",
       "    <tr>\n",
       "      <th>238</th>\n",
       "      <td>McDonald’s</td>\n",
       "      <td>Iced Nonfat Latte (Medium)</td>\n",
       "      <td>60.0</td>\n",
       "      <td>0.0</td>\n",
       "      <td>9.0</td>\n",
       "      <td>6.0</td>\n",
       "    </tr>\n",
       "    <tr>\n",
       "      <th>239</th>\n",
       "      <td>McDonald’s</td>\n",
       "      <td>Iced Nonfat Latte (Large)</td>\n",
       "      <td>70.0</td>\n",
       "      <td>0.0</td>\n",
       "      <td>11.0</td>\n",
       "      <td>7.0</td>\n",
       "    </tr>\n",
       "    <tr>\n",
       "      <th>249</th>\n",
       "      <td>McDonald’s</td>\n",
       "      <td>Iced Nonfat Latte with Sugar Free Vanilla Syru...</td>\n",
       "      <td>40.0</td>\n",
       "      <td>0.0</td>\n",
       "      <td>5.0</td>\n",
       "      <td>4.0</td>\n",
       "    </tr>\n",
       "    <tr>\n",
       "      <th>250</th>\n",
       "      <td>McDonald’s</td>\n",
       "      <td>Iced Nonfat Latte with Sugar Free Vanilla Syru...</td>\n",
       "      <td>50.0</td>\n",
       "      <td>0.0</td>\n",
       "      <td>6.0</td>\n",
       "      <td>5.0</td>\n",
       "    </tr>\n",
       "    <tr>\n",
       "      <th>251</th>\n",
       "      <td>McDonald’s</td>\n",
       "      <td>Iced Nonfat Latte with Sugar Free Vanilla Syru...</td>\n",
       "      <td>60.0</td>\n",
       "      <td>0.0</td>\n",
       "      <td>8.0</td>\n",
       "      <td>6.0</td>\n",
       "    </tr>\n",
       "    <tr>\n",
       "      <th>296</th>\n",
       "      <td>McDonald’s</td>\n",
       "      <td>Iced Latte (Small)</td>\n",
       "      <td>80.0</td>\n",
       "      <td>4.5</td>\n",
       "      <td>6.0</td>\n",
       "      <td>4.0</td>\n",
       "    </tr>\n",
       "    <tr>\n",
       "      <th>297</th>\n",
       "      <td>McDonald’s</td>\n",
       "      <td>Iced Latte (Medium)</td>\n",
       "      <td>100.0</td>\n",
       "      <td>6.0</td>\n",
       "      <td>8.0</td>\n",
       "      <td>6.0</td>\n",
       "    </tr>\n",
       "    <tr>\n",
       "      <th>298</th>\n",
       "      <td>McDonald’s</td>\n",
       "      <td>Iced Latte (Large)</td>\n",
       "      <td>140.0</td>\n",
       "      <td>8.0</td>\n",
       "      <td>10.0</td>\n",
       "      <td>7.0</td>\n",
       "    </tr>\n",
       "    <tr>\n",
       "      <th>308</th>\n",
       "      <td>McDonald’s</td>\n",
       "      <td>Iced Latte with Sugar Free Vanilla Syrup (Small)</td>\n",
       "      <td>60.0</td>\n",
       "      <td>3.0</td>\n",
       "      <td>4.0</td>\n",
       "      <td>3.0</td>\n",
       "    </tr>\n",
       "    <tr>\n",
       "      <th>309</th>\n",
       "      <td>McDonald’s</td>\n",
       "      <td>Iced Latte with Sugar Free Vanilla Syrup (Medium)</td>\n",
       "      <td>90.0</td>\n",
       "      <td>5.0</td>\n",
       "      <td>6.0</td>\n",
       "      <td>5.0</td>\n",
       "    </tr>\n",
       "    <tr>\n",
       "      <th>310</th>\n",
       "      <td>McDonald’s</td>\n",
       "      <td>Iced Latte with Sugar Free Vanilla Syrup (Large)</td>\n",
       "      <td>110.0</td>\n",
       "      <td>6.0</td>\n",
       "      <td>8.0</td>\n",
       "      <td>6.0</td>\n",
       "    </tr>\n",
       "    <tr>\n",
       "      <th>593</th>\n",
       "      <td>Wendy’s</td>\n",
       "      <td>Brewed Unsweetened Iced Tea, Large</td>\n",
       "      <td>5.0</td>\n",
       "      <td>0.0</td>\n",
       "      <td>0.0</td>\n",
       "      <td>5.0</td>\n",
       "    </tr>\n",
       "    <tr>\n",
       "      <th>596</th>\n",
       "      <td>Wendy’s</td>\n",
       "      <td>Caramel Iced Coffee, Medium</td>\n",
       "      <td>240.0</td>\n",
       "      <td>5.0</td>\n",
       "      <td>3.0</td>\n",
       "      <td>278.0</td>\n",
       "    </tr>\n",
       "    <tr>\n",
       "      <th>597</th>\n",
       "      <td>Wendy’s</td>\n",
       "      <td>Caramel Iced Coffee, Small</td>\n",
       "      <td>160.0</td>\n",
       "      <td>3.5</td>\n",
       "      <td>2.0</td>\n",
       "      <td>186.0</td>\n",
       "    </tr>\n",
       "    <tr>\n",
       "      <th>626</th>\n",
       "      <td>Wendy’s</td>\n",
       "      <td>Mocha Iced Coffee, Medium</td>\n",
       "      <td>210.0</td>\n",
       "      <td>5.0</td>\n",
       "      <td>3.0</td>\n",
       "      <td>240.0</td>\n",
       "    </tr>\n",
       "    <tr>\n",
       "      <th>627</th>\n",
       "      <td>Wendy’s</td>\n",
       "      <td>Mocha Iced Coffee, Small</td>\n",
       "      <td>170.0</td>\n",
       "      <td>3.5</td>\n",
       "      <td>2.0</td>\n",
       "      <td>197.0</td>\n",
       "    </tr>\n",
       "    <tr>\n",
       "      <th>631</th>\n",
       "      <td>Wendy’s</td>\n",
       "      <td>Skinny Vanilla Iced Coffee, Medium</td>\n",
       "      <td>100.0</td>\n",
       "      <td>5.0</td>\n",
       "      <td>3.0</td>\n",
       "      <td>102.0</td>\n",
       "    </tr>\n",
       "    <tr>\n",
       "      <th>632</th>\n",
       "      <td>Wendy’s</td>\n",
       "      <td>Skinny Vanilla Iced Coffee, Small</td>\n",
       "      <td>70.0</td>\n",
       "      <td>3.5</td>\n",
       "      <td>2.0</td>\n",
       "      <td>72.0</td>\n",
       "    </tr>\n",
       "    <tr>\n",
       "      <th>645</th>\n",
       "      <td>Wendy’s</td>\n",
       "      <td>Sweetened Iced Tea, Large</td>\n",
       "      <td>300.0</td>\n",
       "      <td>0.0</td>\n",
       "      <td>0.0</td>\n",
       "      <td>375.0</td>\n",
       "    </tr>\n",
       "    <tr>\n",
       "      <th>646</th>\n",
       "      <td>Wendy’s</td>\n",
       "      <td>Sweetened Iced Tea, Medium</td>\n",
       "      <td>220.0</td>\n",
       "      <td>0.0</td>\n",
       "      <td>0.0</td>\n",
       "      <td>276.0</td>\n",
       "    </tr>\n",
       "    <tr>\n",
       "      <th>647</th>\n",
       "      <td>Wendy’s</td>\n",
       "      <td>Sweetened Iced Tea, Small</td>\n",
       "      <td>160.0</td>\n",
       "      <td>0.0</td>\n",
       "      <td>0.0</td>\n",
       "      <td>200.0</td>\n",
       "    </tr>\n",
       "    <tr>\n",
       "      <th>648</th>\n",
       "      <td>Wendy’s</td>\n",
       "      <td>Vanilla Iced Coffee, Medium</td>\n",
       "      <td>250.0</td>\n",
       "      <td>5.0</td>\n",
       "      <td>3.0</td>\n",
       "      <td>291.0</td>\n",
       "    </tr>\n",
       "    <tr>\n",
       "      <th>649</th>\n",
       "      <td>Wendy’s</td>\n",
       "      <td>Vanilla Iced Coffee, Small</td>\n",
       "      <td>170.0</td>\n",
       "      <td>3.5</td>\n",
       "      <td>2.0</td>\n",
       "      <td>198.0</td>\n",
       "    </tr>\n",
       "    <tr>\n",
       "      <th>829</th>\n",
       "      <td>KFC</td>\n",
       "      <td>Lipton® Brisk® No Calorie Peach Iced Green Tea...</td>\n",
       "      <td>5.0</td>\n",
       "      <td>0.0</td>\n",
       "      <td>0.0</td>\n",
       "      <td>5.0</td>\n",
       "    </tr>\n",
       "    <tr>\n",
       "      <th>830</th>\n",
       "      <td>KFC</td>\n",
       "      <td>Lipton® Brisk® No Calorie Peach Iced Green Tea...</td>\n",
       "      <td>10.0</td>\n",
       "      <td>0.0</td>\n",
       "      <td>0.0</td>\n",
       "      <td>10.0</td>\n",
       "    </tr>\n",
       "    <tr>\n",
       "      <th>835</th>\n",
       "      <td>KFC</td>\n",
       "      <td>Lipton® Brisk® Sweet Iced Tea (12 fl oz)</td>\n",
       "      <td>80.0</td>\n",
       "      <td>0.0</td>\n",
       "      <td>0.0</td>\n",
       "      <td>101.0</td>\n",
       "    </tr>\n",
       "    <tr>\n",
       "      <th>836</th>\n",
       "      <td>KFC</td>\n",
       "      <td>Lipton® Brisk® Sweet Iced Tea (16 fl oz)</td>\n",
       "      <td>110.0</td>\n",
       "      <td>0.0</td>\n",
       "      <td>0.0</td>\n",
       "      <td>139.0</td>\n",
       "    </tr>\n",
       "    <tr>\n",
       "      <th>837</th>\n",
       "      <td>KFC</td>\n",
       "      <td>Lipton® Brisk® Sweet Iced Tea (20 fl oz)</td>\n",
       "      <td>130.0</td>\n",
       "      <td>0.0</td>\n",
       "      <td>0.0</td>\n",
       "      <td>166.0</td>\n",
       "    </tr>\n",
       "    <tr>\n",
       "      <th>838</th>\n",
       "      <td>KFC</td>\n",
       "      <td>Lipton® Brisk® Sweet Iced Tea (30 fl oz)</td>\n",
       "      <td>200.0</td>\n",
       "      <td>0.0</td>\n",
       "      <td>0.0</td>\n",
       "      <td>254.0</td>\n",
       "    </tr>\n",
       "    <tr>\n",
       "      <th>985</th>\n",
       "      <td>Taco Bell</td>\n",
       "      <td>Regular Iced Coffee</td>\n",
       "      <td>10.0</td>\n",
       "      <td>0.0</td>\n",
       "      <td>0.0</td>\n",
       "      <td>2.0</td>\n",
       "    </tr>\n",
       "  </tbody>\n",
       "</table>\n",
       "</div>"
      ],
      "text/plain": [
       "        Company                                               Item  Calories   \n",
       "107  McDonald’s                 Vanilla Reduced Fat Ice Cream Cone     150.0  \\\n",
       "182  McDonald’s                       Iced Coffee– Caramel (Small)     130.0   \n",
       "194  McDonald’s  Iced Coffee with Sugar Free Vanilla Syrup (Small)      60.0   \n",
       "195  McDonald’s  Iced Coffee with Sugar Free Vanilla Syrup (Med...      90.0   \n",
       "196  McDonald’s  Iced Coffee with Sugar Free Vanilla Syrup (Large)     120.0   \n",
       "237  McDonald’s                          Iced Nonfat Latte (Small)      50.0   \n",
       "238  McDonald’s                         Iced Nonfat Latte (Medium)      60.0   \n",
       "239  McDonald’s                          Iced Nonfat Latte (Large)      70.0   \n",
       "249  McDonald’s  Iced Nonfat Latte with Sugar Free Vanilla Syru...      40.0   \n",
       "250  McDonald’s  Iced Nonfat Latte with Sugar Free Vanilla Syru...      50.0   \n",
       "251  McDonald’s  Iced Nonfat Latte with Sugar Free Vanilla Syru...      60.0   \n",
       "296  McDonald’s                                 Iced Latte (Small)      80.0   \n",
       "297  McDonald’s                                Iced Latte (Medium)     100.0   \n",
       "298  McDonald’s                                 Iced Latte (Large)     140.0   \n",
       "308  McDonald’s   Iced Latte with Sugar Free Vanilla Syrup (Small)      60.0   \n",
       "309  McDonald’s  Iced Latte with Sugar Free Vanilla Syrup (Medium)      90.0   \n",
       "310  McDonald’s   Iced Latte with Sugar Free Vanilla Syrup (Large)     110.0   \n",
       "593     Wendy’s                 Brewed Unsweetened Iced Tea, Large       5.0   \n",
       "596     Wendy’s                        Caramel Iced Coffee, Medium     240.0   \n",
       "597     Wendy’s                         Caramel Iced Coffee, Small     160.0   \n",
       "626     Wendy’s                          Mocha Iced Coffee, Medium     210.0   \n",
       "627     Wendy’s                           Mocha Iced Coffee, Small     170.0   \n",
       "631     Wendy’s                 Skinny Vanilla Iced Coffee, Medium     100.0   \n",
       "632     Wendy’s                  Skinny Vanilla Iced Coffee, Small      70.0   \n",
       "645     Wendy’s                          Sweetened Iced Tea, Large     300.0   \n",
       "646     Wendy’s                         Sweetened Iced Tea, Medium     220.0   \n",
       "647     Wendy’s                          Sweetened Iced Tea, Small     160.0   \n",
       "648     Wendy’s                        Vanilla Iced Coffee, Medium     250.0   \n",
       "649     Wendy’s                         Vanilla Iced Coffee, Small     170.0   \n",
       "829         KFC  Lipton® Brisk® No Calorie Peach Iced Green Tea...       5.0   \n",
       "830         KFC  Lipton® Brisk® No Calorie Peach Iced Green Tea...      10.0   \n",
       "835         KFC           Lipton® Brisk® Sweet Iced Tea (12 fl oz)      80.0   \n",
       "836         KFC           Lipton® Brisk® Sweet Iced Tea (16 fl oz)     110.0   \n",
       "837         KFC           Lipton® Brisk® Sweet Iced Tea (20 fl oz)     130.0   \n",
       "838         KFC           Lipton® Brisk® Sweet Iced Tea (30 fl oz)     200.0   \n",
       "985   Taco Bell                                Regular Iced Coffee      10.0   \n",
       "\n",
       "     Total Fat\\n(g)  Sugars\\n(g)  Protein\\n(g)  \n",
       "107             3.5         18.0           4.0  \n",
       "182             5.0         20.0           1.0  \n",
       "194             5.0          1.0           1.0  \n",
       "195             8.0          2.0           2.0  \n",
       "196            11.0          2.0           2.0  \n",
       "237             0.0          7.0           5.0  \n",
       "238             0.0          9.0           6.0  \n",
       "239             0.0         11.0           7.0  \n",
       "249             0.0          5.0           4.0  \n",
       "250             0.0          6.0           5.0  \n",
       "251             0.0          8.0           6.0  \n",
       "296             4.5          6.0           4.0  \n",
       "297             6.0          8.0           6.0  \n",
       "298             8.0         10.0           7.0  \n",
       "308             3.0          4.0           3.0  \n",
       "309             5.0          6.0           5.0  \n",
       "310             6.0          8.0           6.0  \n",
       "593             0.0          0.0           5.0  \n",
       "596             5.0          3.0         278.0  \n",
       "597             3.5          2.0         186.0  \n",
       "626             5.0          3.0         240.0  \n",
       "627             3.5          2.0         197.0  \n",
       "631             5.0          3.0         102.0  \n",
       "632             3.5          2.0          72.0  \n",
       "645             0.0          0.0         375.0  \n",
       "646             0.0          0.0         276.0  \n",
       "647             0.0          0.0         200.0  \n",
       "648             5.0          3.0         291.0  \n",
       "649             3.5          2.0         198.0  \n",
       "829             0.0          0.0           5.0  \n",
       "830             0.0          0.0          10.0  \n",
       "835             0.0          0.0         101.0  \n",
       "836             0.0          0.0         139.0  \n",
       "837             0.0          0.0         166.0  \n",
       "838             0.0          0.0         254.0  \n",
       "985             0.0          0.0           2.0  "
      ]
     },
     "execution_count": 51,
     "metadata": {},
     "output_type": "execute_result"
    }
   ],
   "source": [
    "cold_df"
   ]
  },
  {
   "cell_type": "code",
   "execution_count": 52,
   "id": "ee11cf15",
   "metadata": {},
   "outputs": [
    {
     "data": {
      "text/plain": [
       "Company\n",
       "McDonald’s    17\n",
       "Wendy’s       12\n",
       "KFC            6\n",
       "Taco Bell      1\n",
       "Name: count, dtype: int64"
      ]
     },
     "execution_count": 52,
     "metadata": {},
     "output_type": "execute_result"
    }
   ],
   "source": [
    "cold_count=cold_df.Company.value_counts()\n",
    "cold_count\n"
   ]
  },
  {
   "cell_type": "code",
   "execution_count": 53,
   "id": "b84094bf",
   "metadata": {},
   "outputs": [
    {
     "data": {
      "image/png": "[encoded data removed]",
      "text/plain": [
       "<Figure size 640x480 with 1 Axes>"
      ]
     },
     "metadata": {},
     "output_type": "display_data"
    }
   ],
   "source": [
    "plt.pie(cold_count,labels=cold_count.index,autopct=\"%0.2f%%\")\n",
    "plt.title(\" Percent of Cold Beverages\")\n",
    "plt.show()"
   ]
  },
  {
   "cell_type": "markdown",
   "id": "cd67bd39",
   "metadata": {},
   "source": [
    "From above Graph\n",
    "\n",
    "- We say that McDonald's have high percent of beverages\n",
    "- Taco Bell has less percent of beverages."
   ]
  },
  {
   "cell_type": "markdown",
   "id": "940fa277",
   "metadata": {},
   "source": [
    "##  Q) Which is most sweetest Item in each Company ?"
   ]
  },
  {
   "cell_type": "code",
   "execution_count": 54,
   "id": "0bd51734",
   "metadata": {},
   "outputs": [
    {
     "data": {
      "text/html": [
       "<div>\n",
       "<style scoped>\n",
       "    .dataframe tbody tr th:only-of-type {\n",
       "        vertical-align: middle;\n",
       "    }\n",
       "\n",
       "    .dataframe tbody tr th {\n",
       "        vertical-align: top;\n",
       "    }\n",
       "\n",
       "    .dataframe thead th {\n",
       "        text-align: right;\n",
       "    }\n",
       "</style>\n",
       "<table border=\"1\" class=\"dataframe\">\n",
       "  <thead>\n",
       "    <tr style=\"text-align: right;\">\n",
       "      <th></th>\n",
       "      <th>Company</th>\n",
       "      <th>Item</th>\n",
       "      <th>Calories</th>\n",
       "      <th>Total Fat\\n(g)</th>\n",
       "      <th>Sugars\\n(g)</th>\n",
       "      <th>Protein\\n(g)</th>\n",
       "    </tr>\n",
       "  </thead>\n",
       "  <tbody>\n",
       "    <tr>\n",
       "      <th>0</th>\n",
       "      <td>McDonald’s</td>\n",
       "      <td>Hamburger</td>\n",
       "      <td>250.0</td>\n",
       "      <td>9.0</td>\n",
       "      <td>6.0</td>\n",
       "      <td>12.0</td>\n",
       "    </tr>\n",
       "    <tr>\n",
       "      <th>1</th>\n",
       "      <td>McDonald’s</td>\n",
       "      <td>Cheeseburger</td>\n",
       "      <td>300.0</td>\n",
       "      <td>12.0</td>\n",
       "      <td>6.0</td>\n",
       "      <td>15.0</td>\n",
       "    </tr>\n",
       "  </tbody>\n",
       "</table>\n",
       "</div>"
      ],
      "text/plain": [
       "      Company          Item  Calories  Total Fat\\n(g)  Sugars\\n(g)   \n",
       "0  McDonald’s     Hamburger     250.0             9.0          6.0  \\\n",
       "1  McDonald’s  Cheeseburger     300.0            12.0          6.0   \n",
       "\n",
       "   Protein\\n(g)  \n",
       "0          12.0  \n",
       "1          15.0  "
      ]
     },
     "execution_count": 54,
     "metadata": {},
     "output_type": "execute_result"
    }
   ],
   "source": [
    "df2.head(2)"
   ]
  },
  {
   "cell_type": "code",
   "execution_count": 55,
   "id": "a1a0eba8",
   "metadata": {},
   "outputs": [
    {
     "data": {
      "text/html": [
       "<div>\n",
       "<style scoped>\n",
       "    .dataframe tbody tr th:only-of-type {\n",
       "        vertical-align: middle;\n",
       "    }\n",
       "\n",
       "    .dataframe tbody tr th {\n",
       "        vertical-align: top;\n",
       "    }\n",
       "\n",
       "    .dataframe thead th {\n",
       "        text-align: right;\n",
       "    }\n",
       "</style>\n",
       "<table border=\"1\" class=\"dataframe\">\n",
       "  <thead>\n",
       "    <tr style=\"text-align: right;\">\n",
       "      <th></th>\n",
       "      <th>Item</th>\n",
       "      <th>Sugars\\n(g)</th>\n",
       "    </tr>\n",
       "    <tr>\n",
       "      <th>Company</th>\n",
       "      <th></th>\n",
       "      <th></th>\n",
       "    </tr>\n",
       "  </thead>\n",
       "  <tbody>\n",
       "    <tr>\n",
       "      <th>Burger King</th>\n",
       "      <td>Whopper® Sandwich with Cheese</td>\n",
       "      <td>15.0</td>\n",
       "    </tr>\n",
       "    <tr>\n",
       "      <th>KFC</th>\n",
       "      <td>Wild Cherry Pepsi® (30 fl oz)</td>\n",
       "      <td>20.0</td>\n",
       "    </tr>\n",
       "    <tr>\n",
       "      <th>McDonald’s</th>\n",
       "      <td>Vanilla Reduced Fat Ice Cream Cone</td>\n",
       "      <td>20.0</td>\n",
       "    </tr>\n",
       "    <tr>\n",
       "      <th>Taco Bell</th>\n",
       "      <td>Veggie Power Menu Bowl – Specialties</td>\n",
       "      <td>13.0</td>\n",
       "    </tr>\n",
       "    <tr>\n",
       "      <th>Wendy’s</th>\n",
       "      <td>Vanilla Iced Coffee, Small</td>\n",
       "      <td>20.0</td>\n",
       "    </tr>\n",
       "  </tbody>\n",
       "</table>\n",
       "</div>"
      ],
      "text/plain": [
       "                                             Item  Sugars\\n(g)\n",
       "Company                                                       \n",
       "Burger King         Whopper® Sandwich with Cheese         15.0\n",
       "KFC                 Wild Cherry Pepsi® (30 fl oz)         20.0\n",
       "McDonald’s     Vanilla Reduced Fat Ice Cream Cone         20.0\n",
       "Taco Bell    Veggie Power Menu Bowl – Specialties         13.0\n",
       "Wendy’s                Vanilla Iced Coffee, Small         20.0"
      ]
     },
     "execution_count": 55,
     "metadata": {},
     "output_type": "execute_result"
    }
   ],
   "source": [
    "df2.groupby(\"Company\")[[\"Item\",'Sugars\\n(g)']].max()"
   ]
  },
  {
   "cell_type": "markdown",
   "id": "9a5c9599",
   "metadata": {},
   "source": [
    "##  Q) Meal analysis without Burger ?"
   ]
  },
  {
   "cell_type": "code",
   "execution_count": 56,
   "id": "b47f93f9",
   "metadata": {},
   "outputs": [
    {
     "data": {
      "text/html": [
       "<div>\n",
       "<style scoped>\n",
       "    .dataframe tbody tr th:only-of-type {\n",
       "        vertical-align: middle;\n",
       "    }\n",
       "\n",
       "    .dataframe tbody tr th {\n",
       "        vertical-align: top;\n",
       "    }\n",
       "\n",
       "    .dataframe thead th {\n",
       "        text-align: right;\n",
       "    }\n",
       "</style>\n",
       "<table border=\"1\" class=\"dataframe\">\n",
       "  <thead>\n",
       "    <tr style=\"text-align: right;\">\n",
       "      <th></th>\n",
       "      <th>Company</th>\n",
       "      <th>Item</th>\n",
       "      <th>Calories</th>\n",
       "      <th>Total Fat\\n(g)</th>\n",
       "      <th>Sugars\\n(g)</th>\n",
       "      <th>Protein\\n(g)</th>\n",
       "    </tr>\n",
       "  </thead>\n",
       "  <tbody>\n",
       "    <tr>\n",
       "      <th>0</th>\n",
       "      <td>McDonald’s</td>\n",
       "      <td>Hamburger</td>\n",
       "      <td>250.0</td>\n",
       "      <td>9.0</td>\n",
       "      <td>6.0</td>\n",
       "      <td>12.0</td>\n",
       "    </tr>\n",
       "    <tr>\n",
       "      <th>1</th>\n",
       "      <td>McDonald’s</td>\n",
       "      <td>Cheeseburger</td>\n",
       "      <td>300.0</td>\n",
       "      <td>12.0</td>\n",
       "      <td>6.0</td>\n",
       "      <td>15.0</td>\n",
       "    </tr>\n",
       "  </tbody>\n",
       "</table>\n",
       "</div>"
      ],
      "text/plain": [
       "      Company          Item  Calories  Total Fat\\n(g)  Sugars\\n(g)   \n",
       "0  McDonald’s     Hamburger     250.0             9.0          6.0  \\\n",
       "1  McDonald’s  Cheeseburger     300.0            12.0          6.0   \n",
       "\n",
       "   Protein\\n(g)  \n",
       "0          12.0  \n",
       "1          15.0  "
      ]
     },
     "execution_count": 56,
     "metadata": {},
     "output_type": "execute_result"
    }
   ],
   "source": [
    "df2.head(2)"
   ]
  },
  {
   "cell_type": "code",
   "execution_count": 57,
   "id": "62a85efb",
   "metadata": {},
   "outputs": [
    {
     "data": {
      "text/plain": [
       "(564, 6)"
      ]
     },
     "execution_count": 57,
     "metadata": {},
     "output_type": "execute_result"
    }
   ],
   "source": [
    "not_burger_df2=df2[~(df2.Item.str.contains(\"burger\"))]\n",
    "not_burger_df2.shape"
   ]
  },
  {
   "cell_type": "code",
   "execution_count": 58,
   "id": "44a68944",
   "metadata": {},
   "outputs": [
    {
     "data": {
      "text/html": [
       "<div>\n",
       "<style scoped>\n",
       "    .dataframe tbody tr th:only-of-type {\n",
       "        vertical-align: middle;\n",
       "    }\n",
       "\n",
       "    .dataframe tbody tr th {\n",
       "        vertical-align: top;\n",
       "    }\n",
       "\n",
       "    .dataframe thead th {\n",
       "        text-align: right;\n",
       "    }\n",
       "</style>\n",
       "<table border=\"1\" class=\"dataframe\">\n",
       "  <thead>\n",
       "    <tr style=\"text-align: right;\">\n",
       "      <th></th>\n",
       "      <th>Company</th>\n",
       "      <th>Item</th>\n",
       "      <th>Calories</th>\n",
       "      <th>Total Fat\\n(g)</th>\n",
       "      <th>Sugars\\n(g)</th>\n",
       "      <th>Protein\\n(g)</th>\n",
       "    </tr>\n",
       "  </thead>\n",
       "  <tbody>\n",
       "    <tr>\n",
       "      <th>3</th>\n",
       "      <td>McDonald’s</td>\n",
       "      <td>McDouble</td>\n",
       "      <td>390.0</td>\n",
       "      <td>19.0</td>\n",
       "      <td>7.0</td>\n",
       "      <td>22.0</td>\n",
       "    </tr>\n",
       "    <tr>\n",
       "      <th>4</th>\n",
       "      <td>McDonald’s</td>\n",
       "      <td>Quarter Pounder® with Cheese</td>\n",
       "      <td>510.0</td>\n",
       "      <td>26.0</td>\n",
       "      <td>9.0</td>\n",
       "      <td>29.0</td>\n",
       "    </tr>\n",
       "    <tr>\n",
       "      <th>5</th>\n",
       "      <td>McDonald’s</td>\n",
       "      <td>Double Quarter Pounder® with Cheese</td>\n",
       "      <td>740.0</td>\n",
       "      <td>42.0</td>\n",
       "      <td>9.0</td>\n",
       "      <td>48.0</td>\n",
       "    </tr>\n",
       "    <tr>\n",
       "      <th>6</th>\n",
       "      <td>McDonald’s</td>\n",
       "      <td>Big Mac®</td>\n",
       "      <td>540.0</td>\n",
       "      <td>29.0</td>\n",
       "      <td>9.0</td>\n",
       "      <td>25.0</td>\n",
       "    </tr>\n",
       "    <tr>\n",
       "      <th>7</th>\n",
       "      <td>McDonald’s</td>\n",
       "      <td>Big N’ Tasty®</td>\n",
       "      <td>460.0</td>\n",
       "      <td>24.0</td>\n",
       "      <td>8.0</td>\n",
       "      <td>24.0</td>\n",
       "    </tr>\n",
       "  </tbody>\n",
       "</table>\n",
       "</div>"
      ],
      "text/plain": [
       "      Company                                 Item  Calories  Total Fat\\n(g)   \n",
       "3  McDonald’s                             McDouble     390.0            19.0  \\\n",
       "4  McDonald’s         Quarter Pounder® with Cheese     510.0            26.0   \n",
       "5  McDonald’s  Double Quarter Pounder® with Cheese     740.0            42.0   \n",
       "6  McDonald’s                             Big Mac®     540.0            29.0   \n",
       "7  McDonald’s                        Big N’ Tasty®     460.0            24.0   \n",
       "\n",
       "   Sugars\\n(g)  Protein\\n(g)  \n",
       "3          7.0          22.0  \n",
       "4          9.0          29.0  \n",
       "5          9.0          48.0  \n",
       "6          9.0          25.0  \n",
       "7          8.0          24.0  "
      ]
     },
     "execution_count": 58,
     "metadata": {},
     "output_type": "execute_result"
    }
   ],
   "source": [
    "not_burger_df2.head()"
   ]
  },
  {
   "cell_type": "code",
   "execution_count": 59,
   "id": "ee27bb03",
   "metadata": {},
   "outputs": [
    {
     "data": {
      "text/html": [
       "<div>\n",
       "<style scoped>\n",
       "    .dataframe tbody tr th:only-of-type {\n",
       "        vertical-align: middle;\n",
       "    }\n",
       "\n",
       "    .dataframe tbody tr th {\n",
       "        vertical-align: top;\n",
       "    }\n",
       "\n",
       "    .dataframe thead th {\n",
       "        text-align: right;\n",
       "    }\n",
       "</style>\n",
       "<table border=\"1\" class=\"dataframe\">\n",
       "  <thead>\n",
       "    <tr style=\"text-align: right;\">\n",
       "      <th></th>\n",
       "      <th>Item</th>\n",
       "      <th>Calories</th>\n",
       "      <th>Total Fat\\n(g)</th>\n",
       "      <th>Sugars\\n(g)</th>\n",
       "      <th>Protein\\n(g)</th>\n",
       "    </tr>\n",
       "    <tr>\n",
       "      <th>Company</th>\n",
       "      <th></th>\n",
       "      <th></th>\n",
       "      <th></th>\n",
       "      <th></th>\n",
       "      <th></th>\n",
       "    </tr>\n",
       "  </thead>\n",
       "  <tbody>\n",
       "    <tr>\n",
       "      <th>Burger King</th>\n",
       "      <td>65</td>\n",
       "      <td>65</td>\n",
       "      <td>65</td>\n",
       "      <td>65</td>\n",
       "      <td>65</td>\n",
       "    </tr>\n",
       "    <tr>\n",
       "      <th>KFC</th>\n",
       "      <td>164</td>\n",
       "      <td>164</td>\n",
       "      <td>164</td>\n",
       "      <td>164</td>\n",
       "      <td>164</td>\n",
       "    </tr>\n",
       "    <tr>\n",
       "      <th>McDonald’s</th>\n",
       "      <td>131</td>\n",
       "      <td>131</td>\n",
       "      <td>131</td>\n",
       "      <td>131</td>\n",
       "      <td>131</td>\n",
       "    </tr>\n",
       "    <tr>\n",
       "      <th>Taco Bell</th>\n",
       "      <td>94</td>\n",
       "      <td>94</td>\n",
       "      <td>94</td>\n",
       "      <td>94</td>\n",
       "      <td>94</td>\n",
       "    </tr>\n",
       "    <tr>\n",
       "      <th>Wendy’s</th>\n",
       "      <td>110</td>\n",
       "      <td>110</td>\n",
       "      <td>110</td>\n",
       "      <td>110</td>\n",
       "      <td>110</td>\n",
       "    </tr>\n",
       "  </tbody>\n",
       "</table>\n",
       "</div>"
      ],
      "text/plain": [
       "             Item  Calories  Total Fat\\n(g)  Sugars\\n(g)  Protein\\n(g)\n",
       "Company                                                               \n",
       "Burger King    65        65              65           65            65\n",
       "KFC           164       164             164          164           164\n",
       "McDonald’s    131       131             131          131           131\n",
       "Taco Bell      94        94              94           94            94\n",
       "Wendy’s       110       110             110          110           110"
      ]
     },
     "execution_count": 59,
     "metadata": {},
     "output_type": "execute_result"
    }
   ],
   "source": [
    "not_burger_df2.groupby('Company').count()"
   ]
  },
  {
   "cell_type": "code",
   "execution_count": 60,
   "id": "95dd48d1",
   "metadata": {},
   "outputs": [
    {
     "data": {
      "text/plain": [
       "Company\n",
       "Burger King     14.523077\n",
       "KFC            220.463415\n",
       "McDonald’s      14.206107\n",
       "Taco Bell       13.787234\n",
       "Wendy’s        314.245455\n",
       "Name: Protein\\n(g), dtype: float64"
      ]
     },
     "execution_count": 60,
     "metadata": {},
     "output_type": "execute_result"
    }
   ],
   "source": [
    "not_burger_df2.groupby('Company')['Protein\\n(g)'].mean()"
   ]
  },
  {
   "cell_type": "code",
   "execution_count": 61,
   "id": "44e3c561",
   "metadata": {
    "scrolled": false
   },
   "outputs": [
    {
     "data": {
      "image/png": "[encoded data removed]",
      "text/plain": [
       "<Figure size 1000x700 with 1 Axes>"
      ]
     },
     "metadata": {},
     "output_type": "display_data"
    }
   ],
   "source": [
    "plt.figure(figsize=(10,7))\n",
    "\n",
    "not_burger_df2.groupby('Company')['Item'].count().plot(kind='bar',label='count');\n",
    "not_burger_df2.groupby('Company')['Calories'].mean().plot(label=\"Calories\");\n",
    "not_burger_df2.groupby('Company')['Total Fat\\n(g)'].mean().plot(label='Fat');\n",
    "not_burger_df2.groupby('Company')['Sugars\\n(g)'].mean().plot(label='Sugar');\n",
    "not_burger_df2.groupby('Company')['Protein\\n(g)'].mean().plot(label='Protein');\n",
    "\n",
    "plt.title(\"Meal without Burger\")\n",
    "plt.legend();"
   ]
  },
  {
   "cell_type": "markdown",
   "id": "97e7f63a",
   "metadata": {},
   "source": [
    "From above fig\n",
    "\n",
    "- If we are not buying an burger,then KFC go good choice\n",
    "- High Protein in Wendy's without burger\n",
    "- The product which are not Burger are mostly made by KFC\n",
    "- The company which most of product are burger is Burger King"
   ]
  },
  {
   "cell_type": "markdown",
   "id": "c7d13ffd",
   "metadata": {},
   "source": [
    "#  Conclusion "
   ]
  },
  {
   "cell_type": "markdown",
   "id": "85663595",
   "metadata": {},
   "source": [
    "- Most of Item are from by KFC\n",
    "- Calories VS Fat    \n",
    "    - As Calories increases, Fat also increases\n",
    "    - Both are directly proportional to each other\n",
    "    - Increasing rate is high\n",
    "- Sugar VS Calories \n",
    "    - As Calories increases Sugar also increases\n",
    "    - Both are directly proportional to each other\n",
    "    - Increasing rate is slow\n",
    "    - The Calories at 400,500,600 contain high amount of sugar\n",
    "- Fat VS Protein    \n",
    "    - Fat is high where protein is less\n",
    "    - Where Protein is high where Fat is less\n",
    "    - We cannot say they are inversely proportional, because when protein   is increases,fat also increases but in very poor amount\n",
    "- Supply Nutrition to market\n",
    "    - We say that, Burger King is 1st & Taco Bell is 2nd, who supply more Calories to Market\n",
    "    - Wendy's play a major role in supplying Protein to Market\n",
    "    - KFC maintain it's ratio of supplying protein & Calories in almost same amount\n",
    "-  Large Percentage of Cold Beverages are provided by McDonald's  \n",
    "- KFC is Company which produce other item in large amount rather than burger"
   ]
  },
  {
   "cell_type": "code",
   "execution_count": 62,
   "id": "3e1caea6",
   "metadata": {},
   "outputs": [],
   "source": [
    "import jovian"
   ]
  },
  {
   "cell_type": "code",
   "execution_count": null,
   "id": "917a4966",
   "metadata": {},
   "outputs": [
    {
     "data": {
      "application/javascript": [
       "window.require && require([\"base/js/namespace\"],function(Jupyter){Jupyter.notebook.save_checkpoint()})"
      ],
      "text/plain": [
       "<IPython.core.display.Javascript object>"
      ]
     },
     "metadata": {},
     "output_type": "display_data"
    }
   ],
   "source": [
    "jovian.commit(project=\"Fast_Food_analysis\")"
   ]
  }
 ],
 "metadata": {
  "kernelspec": {
   "display_name": "Python 3 (ipykernel)",
   "language": "python",
   "name": "python3"
  },
  "language_info": {
   "codemirror_mode": {
    "name": "ipython",
    "version": 3
   },
   "file_extension": ".py",
   "mimetype": "text/x-python",
   "name": "python",
   "nbconvert_exporter": "python",
   "pygments_lexer": "ipython3",
   "version": "3.10.7"
  }
 },
 "nbformat": 4,
 "nbformat_minor": 5
}
